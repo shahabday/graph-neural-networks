{
  "nbformat": 4,
  "nbformat_minor": 0,
  "metadata": {
    "colab": {
      "provenance": [],
      "include_colab_link": true
    },
    "kernelspec": {
      "name": "python3",
      "display_name": "Python 3"
    },
    "language_info": {
      "name": "python"
    },
    "accelerator": "GPU"
  },
  "cells": [
    {
      "cell_type": "markdown",
      "metadata": {
        "id": "view-in-github",
        "colab_type": "text"
      },
      "source": [
        "<a href=\"https://colab.research.google.com/github/shahabday/graph-neural-networks/blob/main/4_MessagePassingNeuralNetworks.ipynb\" target=\"_parent\"><img src=\"https://colab.research.google.com/assets/colab-badge.svg\" alt=\"Open In Colab\"/></a>"
      ]
    },
    {
      "cell_type": "code",
      "source": [
        "# Please, make a copy of the notebook before we start.\n",
        "# Turn on the GPU support in the Runtime/Change runtime type.\n",
        "import os\n",
        "import torch\n",
        "os.environ['TORCH'] = torch.__version__\n",
        "print(torch.__version__)\n",
        "\n",
        "# Install Pytorch Geometric and its dependencies\n",
        "!pip install -q torch-scatter -f https://data.pyg.org/whl/torch-${TORCH}.html\n",
        "!pip install -q torch-sparse -f https://data.pyg.org/whl/torch-${TORCH}.html\n",
        "!pip install -q git+https://github.com/pyg-team/pytorch_geometric.git"
      ],
      "metadata": {
        "id": "DFApxvwPg9-A",
        "colab": {
          "base_uri": "https://localhost:8080/"
        },
        "outputId": "2720636e-eb54-4da1-fb17-b3f0a01d649a"
      },
      "execution_count": null,
      "outputs": [
        {
          "output_type": "stream",
          "name": "stdout",
          "text": [
            "2.5.0+cu121\n",
            "\u001b[2K     \u001b[90m━━━━━━━━━━━━━━━━━━━━━━━━━━━━━━━━━━━━━━━━\u001b[0m \u001b[32m10.9/10.9 MB\u001b[0m \u001b[31m61.9 MB/s\u001b[0m eta \u001b[36m0:00:00\u001b[0m\n",
            "\u001b[2K     \u001b[90m━━━━━━━━━━━━━━━━━━━━━━━━━━━━━━━━━━━━━━━━\u001b[0m \u001b[32m5.1/5.1 MB\u001b[0m \u001b[31m3.9 MB/s\u001b[0m eta \u001b[36m0:00:00\u001b[0m\n",
            "\u001b[?25h  Installing build dependencies ... \u001b[?25l\u001b[?25hdone\n",
            "  Getting requirements to build wheel ... \u001b[?25l\u001b[?25hdone\n",
            "  Preparing metadata (pyproject.toml) ... \u001b[?25l\u001b[?25hdone\n",
            "  Building wheel for torch-geometric (pyproject.toml) ... \u001b[?25l\u001b[?25hdone\n"
          ]
        }
      ]
    },
    {
      "cell_type": "markdown",
      "source": [
        "# **[Generalized message passing](https://arxiv.org/abs/1806.01261) and relational inductive bias**\n",
        "\n",
        ">\"Infinite use of finite means\" (Humboldt,1836; Chomsky, 1965)\n",
        "\n",
        "*   Human intellect is able to productively compose complex structures (sentences) using a small set of elements (words).\n",
        "*   *Relational inductive bias* imposes constraints on relationships and interactions among entities in a learning process. It's a prior knowledge one incorporates into a learning algorithm. For example, for a CNN it's locality and **translation invariance**.\n",
        "*   A graph structure imposes a strong relational inductive bias, since during the learning process we heavily utilize the relations between the nodes, which can be of arbitrary nature.\n",
        "*   Message passing algorithms must provide permutation invariance of the nodes, since it doesn't matter from what neighbour we receive the signal first. Therefore, graph neural networks have **permutation invariance**.\n",
        "  - **Example:** compute the centre of mass of the solar system $\\to$ the order of the planets doesn't matter."
      ],
      "metadata": {
        "id": "r4s_0uj9EtRF"
      }
    },
    {
      "cell_type": "markdown",
      "source": [
        "### **Graph definition:**\n",
        "\n",
        "*   $\\mathcal{G}=(\\mathbf{u}, V,E)$\n",
        "  - $V$: nodes.\n",
        "  - $E$: edges.\n",
        "  - $\\mathbf{u}$: global attribute.\n",
        "*   The graph is:\n",
        "  - Directed.\n",
        "  - Attributed (nodes, edges, global).\n",
        "  - Multi-graph: there can be more than one edge between nodes.\n",
        "\n",
        "**Example:** balls connected by springs in the gravitational field:\n",
        "*   $\\mathbf{u}$ is the total kinetic energy of the system.\n",
        "*   $V= \\{v_k \\}$ is the set of balls, with attributes for position and momentum.\n",
        "*   $E = \\{(\\textbf{e}_k, r_k, s_k)\\}$ is the set of springs connecting the balls, with their corresponding potential energies, $r_k$ and $s_k$ are the indices of the receiver and sender nodes.\n",
        "\n",
        "\n",
        "<center width=\"100%\" style=\"padding:10px\"> <img src =\"https://drive.google.com/uc?id=17jaILJ0oiN9OzwZ6ZowI1hLHowcPBl_3\" width=600 height=275></center>"
      ],
      "metadata": {
        "id": "0QaAIZZqPLUZ"
      }
    },
    {
      "cell_type": "markdown",
      "source": [
        "### **GN block update**\n",
        "\n",
        "\\begin{equation}\n",
        "\\begin{aligned}\n",
        "    1) \\, \\textbf{e}^{'}_{k} = \\phi^e (\\textbf{e}_k, \\, \\textbf{v}_{r_k}, \\, \\textbf{v}_{r_s}, \\, \\textbf{u}) &&\n",
        "    \\hspace{2cm} 2) \\, \\bar{\\textbf{e}}'_{i} = \\rho^{e \\to v} ( E^{'}_i) \\hspace{0.95cm}\\\\\n",
        "    3) \\, \\textbf{v}^{'}_{i} = \\phi^{v} (\\bar{\\textbf{e}}'_{i}, \\, \\textbf{v}_{i}, \\, \\textbf{u}) \\hspace{1.25cm} &&\n",
        "    4) \\, \\bar{\\textbf{e}}' = \\rho^{e \\to u} ( E^{'}) \\hspace{0.95cm}\\\\\n",
        "    5) \\, \\bar{\\textbf{v}}' =  \\rho^{v \\to u} (V^{'}) \\hspace{2cm} &&\n",
        "    6) \\, \\textbf{u}' = \\phi^{u} (\\bar{\\textbf{e}}', \\, \\bar{\\textbf{v}}', \\, \\textbf{u}),\n",
        "\\end{aligned}\n",
        "\\end{equation}\n",
        "\n",
        "where:\n",
        "*   $E^{'}_i = \\{(\\textbf{e}^{'}_k, r_k, s_k)\\}_{r_k = i, k=1:N^{|E|}}$ is the set of all per-edge outputs of the node $i$.\n",
        "*   $E^{'} = \\bigcup E^{'}_i $ is the set of all per-edge outputs.\n",
        "*   $V^{'} = \\{v^{'}_i \\}_{i=1:N^{|V|}}$ is the set of all per-node outputs.\n",
        "\n",
        "Ball system example:\n",
        "\n",
        "1. Update the corresponding forces (edge attributes) between two connected balls.\n",
        "2. Aggregate the edge updates for edges that project to vertex $i$. Sum all the forces acting on a ball $i$.\n",
        "3. Update node attributes, e.g. update a position and a momentum of each ball.\n",
        "4. Aggregate all updated edge attributes. Sum all the forces.\n",
        "5. Aggregate all nodes attributes, which might correspond to calculating the total momentum of the system.\n",
        "6. Update the global attribute, e.g. the kinetic energy of the system.\n",
        "\n",
        "**All different functions $\\phi$ can be arbitrary differentiable functions, e.g. neural networks. And all functions $\\rho$ are aggregation functions, e.g. *sum* or *mean*.** (figure credit - [Peter Battaglia](https://arxiv.org/abs/1806.01261))\n",
        "\n",
        "<center width=\"100%\" style=\"padding:10px\"> <img src =\"https://drive.google.com/uc?id=12I2j2TQtWHWSBZBJ3wYtkZHN45sux62t\" width=700 height=175></center>"
      ],
      "metadata": {
        "id": "ZP0dIieBSAWm"
      }
    },
    {
      "cell_type": "markdown",
      "source": [
        "# **Graph classification with generalized message passing**"
      ],
      "metadata": {
        "id": "QVZAkGIMaGTL"
      }
    },
    {
      "cell_type": "markdown",
      "source": [
        "*   Classify an entire graph instead of single nodes or edges with a given dataset of multiple graphs.\n",
        "*   Molecular property prediction, in which molecules are represented as graphs. Each atom is linked to a node, and edges in the graph are the bonds between atoms.\n",
        "\n",
        "<center width=\"100%\" style=\"padding:10px\"> <img src =\"https://drive.google.com/uc?id=1o_BXW38qr-9uGGPPGgfghCz7P1OOKpsh\" width=600></center>\n",
        "\n",
        "We will use a slightly modified version of the MUTAG dataset. Let's add a global attribute to each graph and set it to zero.\n",
        "\n",
        "\n"
      ],
      "metadata": {
        "id": "LRQ4yuxZd3OG"
      }
    },
    {
      "cell_type": "code",
      "source": [
        "from torch_geometric.datasets import TUDataset\n",
        "\n",
        "def add_global_attr(data):\n",
        "  data.u = torch.tensor([[0]]).to(torch.float32)\n",
        "  return data\n",
        "\n",
        "dataset = TUDataset(root='data/TUDataset', name='MUTAG', transform=add_global_attr)\n",
        "\n",
        "print()\n",
        "print(f'Dataset: {dataset}:')\n",
        "print('====================')\n",
        "print(f'Number of graphs: {len(dataset)}')\n",
        "print(f'Number of features: {dataset.num_features}')\n",
        "print(f'Number of classes: {dataset.num_classes}')\n",
        "\n",
        "data = dataset[0]  # Get the first graph.\n",
        "\n",
        "print()\n",
        "print(data)\n",
        "print('=============================================================')\n",
        "\n",
        "# Gather some statistics about the first graph.\n",
        "print(f'Number of nodes: {data.num_nodes}')\n",
        "print(f'Number of edges: {data.num_edges}')\n",
        "print(f'Average node degree: {data.num_edges / data.num_nodes:.2f}')\n",
        "print(f'Has isolated nodes: {data.has_isolated_nodes()}')\n",
        "print(f'Has self-loops: {data.has_self_loops()}')\n",
        "print(f'Is undirected: {data.is_undirected()}')"
      ],
      "metadata": {
        "id": "JsvRSAKcMPia",
        "colab": {
          "base_uri": "https://localhost:8080/",
          "height": 400
        },
        "outputId": "c47b9923-7f03-46d7-e5a3-21c5b66677c6"
      },
      "execution_count": null,
      "outputs": [
        {
          "output_type": "error",
          "ename": "ModuleNotFoundError",
          "evalue": "No module named 'torch_geometric'",
          "traceback": [
            "\u001b[0;31m---------------------------------------------------------------------------\u001b[0m",
            "\u001b[0;31mModuleNotFoundError\u001b[0m                       Traceback (most recent call last)",
            "\u001b[0;32m<ipython-input-1-934522597ba7>\u001b[0m in \u001b[0;36m<cell line: 1>\u001b[0;34m()\u001b[0m\n\u001b[0;32m----> 1\u001b[0;31m \u001b[0;32mfrom\u001b[0m \u001b[0mtorch_geometric\u001b[0m\u001b[0;34m.\u001b[0m\u001b[0mdatasets\u001b[0m \u001b[0;32mimport\u001b[0m \u001b[0mTUDataset\u001b[0m\u001b[0;34m\u001b[0m\u001b[0;34m\u001b[0m\u001b[0m\n\u001b[0m\u001b[1;32m      2\u001b[0m \u001b[0;34m\u001b[0m\u001b[0m\n\u001b[1;32m      3\u001b[0m \u001b[0;32mdef\u001b[0m \u001b[0madd_global_attr\u001b[0m\u001b[0;34m(\u001b[0m\u001b[0mdata\u001b[0m\u001b[0;34m)\u001b[0m\u001b[0;34m:\u001b[0m\u001b[0;34m\u001b[0m\u001b[0;34m\u001b[0m\u001b[0m\n\u001b[1;32m      4\u001b[0m   \u001b[0mdata\u001b[0m\u001b[0;34m.\u001b[0m\u001b[0mu\u001b[0m \u001b[0;34m=\u001b[0m \u001b[0mtorch\u001b[0m\u001b[0;34m.\u001b[0m\u001b[0mtensor\u001b[0m\u001b[0;34m(\u001b[0m\u001b[0;34m[\u001b[0m\u001b[0;34m[\u001b[0m\u001b[0;36m0\u001b[0m\u001b[0;34m]\u001b[0m\u001b[0;34m]\u001b[0m\u001b[0;34m)\u001b[0m\u001b[0;34m.\u001b[0m\u001b[0mto\u001b[0m\u001b[0;34m(\u001b[0m\u001b[0mtorch\u001b[0m\u001b[0;34m.\u001b[0m\u001b[0mfloat32\u001b[0m\u001b[0;34m)\u001b[0m\u001b[0;34m\u001b[0m\u001b[0;34m\u001b[0m\u001b[0m\n\u001b[1;32m      5\u001b[0m   \u001b[0;32mreturn\u001b[0m \u001b[0mdata\u001b[0m\u001b[0;34m\u001b[0m\u001b[0;34m\u001b[0m\u001b[0m\n",
            "\u001b[0;31mModuleNotFoundError\u001b[0m: No module named 'torch_geometric'",
            "",
            "\u001b[0;31m---------------------------------------------------------------------------\u001b[0;32m\nNOTE: If your import is failing due to a missing package, you can\nmanually install dependencies using either !pip or !apt.\n\nTo view examples of installing some common dependencies, click the\n\"Open Examples\" button below.\n\u001b[0;31m---------------------------------------------------------------------------\u001b[0m\n"
          ],
          "errorDetails": {
            "actions": [
              {
                "action": "open_url",
                "actionText": "Open Examples",
                "url": "/notebooks/snippets/importing_libraries.ipynb"
              }
            ]
          }
        }
      ]
    },
    {
      "cell_type": "markdown",
      "source": [
        "*   Node features are the one-hot encoded atom types.\n",
        "*   Edge features are different types of atom bonds.\n",
        "*   The binary graph labels represent a graph's \"mutagenic effect on a specific gram negative bacterium\". (Not so important for us)\n",
        "*   We added a global attribute to each graph.\n",
        "\n",
        "Let's shuffle the dataset and use the first 150 graphs as training graphs, while using the remaining ones for testing:"
      ],
      "metadata": {
        "id": "DFIkCvEcolLX"
      }
    },
    {
      "cell_type": "code",
      "source": [
        "torch.manual_seed(12345)\n",
        "dataset = dataset.shuffle()\n",
        "\n",
        "train_dataset = dataset[:150]\n",
        "test_dataset = dataset[150:]\n",
        "\n",
        "print(f'Number of training graphs: {len(train_dataset)}')\n",
        "print(f'Number of test graphs: {len(test_dataset)}')"
      ],
      "metadata": {
        "id": "xPBLVsjlMRtT"
      },
      "execution_count": null,
      "outputs": []
    },
    {
      "cell_type": "markdown",
      "source": [
        "### **Mini-batching of graphs in PyG**\n",
        "\n",
        "*   Each graph in the batch can have a different number of nodes and edges, hence we would require a lot of padding to obtain a single tensor.\n",
        "*   Represent $N$ graphs in a batch as a single large graph with concatenated node and edge lists.\n",
        "* There is no edge between different graphs.\n",
        "\n",
        "<center width=\"100%\" style=\"padding:10px\"> <img src =\"https://drive.google.com/uc?id=1C5Ob2YQxrMH-Xf55mZ2RNO79q2Rw5E9P\" width=600></center>\n",
        "\n",
        "Advantages over other batching procedures:\n",
        "\n",
        "1. GNN operators that rely on a message passing scheme do not need to be modified since messages are not exchanged between two nodes that belong to different graphs.\n",
        "\n",
        "2. There is no computational or memory overhead since adjacency matrices are saved in a sparse fashion holding only non-zero entries, *i.e.*, the edges.\n",
        "\n",
        "**PyG's Dataloader does batching for us automatically.**"
      ],
      "metadata": {
        "id": "sjmSM1sVqBRq"
      }
    },
    {
      "cell_type": "code",
      "source": [
        "from torch_geometric.loader import DataLoader\n",
        "\n",
        "train_loader = DataLoader(train_dataset, batch_size=64, shuffle=True)\n",
        "test_loader = DataLoader(test_dataset, batch_size=64, shuffle=False)\n",
        "\n",
        "for step, data in enumerate(train_loader):\n",
        "    print(f'Step {step + 1}:')\n",
        "    print('=======')\n",
        "    print(f'Number of graphs in the current batch: {data.num_graphs}')\n",
        "    print(data)\n",
        "    print()"
      ],
      "metadata": {
        "id": "V6gJjanVMTOD"
      },
      "execution_count": null,
      "outputs": []
    },
    {
      "cell_type": "markdown",
      "source": [
        "Each `Batch` object is equipped with a **`batch` vector**, which maps each node to its respective graph in the batch:\n",
        "\n",
        "$$\n",
        "\\textrm{batch} = [ 0, \\ldots, 0, 1, \\ldots, 1, 2, \\ldots ]\n",
        "$$"
      ],
      "metadata": {
        "id": "Biut_wdBsZXo"
      }
    },
    {
      "cell_type": "markdown",
      "source": [
        "### **Graph level predictions**\n",
        "\n",
        "Graph classification in a nutshell:\n",
        "\n",
        "1. Embed each node by performing multiple rounds of message passing.\n",
        "2. Aggregate node embeddings into a unified graph embedding (**readout layer**).\n",
        "3. Train a final classifier on the graph embedding.\n",
        "\n",
        "The most common **readout layers** is to simply take the average of node embeddings:\n",
        "\n",
        "$$\n",
        "\\mathbf{x}_{\\mathcal{G}} = \\frac{1}{|\\mathcal{V}|} \\sum_{v \\in \\mathcal{V}} \\mathcal{z}^{(L)}_v\n",
        "$$\n",
        "\n",
        "We can do it via [`torch_geometric.nn.global_mean_pool`](https://pytorch-geometric.readthedocs.io/en/latest/modules/nn.html#torch_geometric.nn.glob.global_mean_pool)."
      ],
      "metadata": {
        "id": "Bu2Al-1utajI"
      }
    },
    {
      "cell_type": "markdown",
      "source": [
        "### **Train a GN model**\n",
        "\n",
        "Let's create three neural networks for node, edge and global attributes updates. You can check [torch_scatter.scatter_mean](https://pytorch-scatter.readthedocs.io/en/1.3.0/functions/mean.html) function for better understanding.\n"
      ],
      "metadata": {
        "id": "eNuF2bsnx06p"
      }
    },
    {
      "cell_type": "code",
      "source": [
        "from torch_scatter import scatter_mean\n",
        "\n",
        "# TODO: complete the edge, node and global update networks\n",
        "\n",
        "class EdgeModel(torch.nn.Module):\n",
        "  def __init__(self, hidden_channels):\n",
        "    # TODO: complete together\n",
        "    pass\n",
        "\n",
        "  def forward(self, src, dest, edge_attr, u, batch):\n",
        "    # src, dest: [E, F_x], where E is the number of edges.\n",
        "    # edge_attr: [E, F_e]\n",
        "    # u: [B, F_u], where B is the number of graphs.\n",
        "    # batch: [E] with max entry B - 1.\n",
        "    # TODO: complete together\n",
        "    pass\n",
        "\n",
        "\n",
        "class NodeModel(torch.nn.Module):\n",
        "  def __init__(self, hidden_channels):\n",
        "    # TODO: complete together\n",
        "    pass\n",
        "\n",
        "\n",
        "  def forward(self, x, edge_index, edge_attr, u, batch):\n",
        "    # x: [N, F_x], where N is the number of nodes in all graphs of the batch.\n",
        "    # edge_index: [2, E] with max entry N - 1.\n",
        "    # edge_attr: [E, F_e]\n",
        "    # u: [B, F_u]\n",
        "    # batch: [N] with max entry B - 1.\n",
        "    # TODO: complete together\n",
        "    pass\n",
        "\n",
        "class GlobalModel(torch.nn.Module):\n",
        "  def __init__(self, hidden_channels):\n",
        "    # TODO: complete together\n",
        "    pass\n",
        "\n",
        "  def forward(self, node_attr_prime, edge_out_bar, u, batch):\n",
        "    # node_attr_prime: [N, F_x], where N is the number of nodes in the batch.\n",
        "    # edge_out_bar: [N, F_e]\n",
        "    # u: [B, F_u]\n",
        "    # batch: [N] with max entry B - 1.\n",
        "    # Average all node attributes for each graph, using batch tensor.\n",
        "    # TODO: complete together\n",
        "    pass"
      ],
      "metadata": {
        "id": "0FzXFP_4yfCZ"
      },
      "execution_count": null,
      "outputs": []
    },
    {
      "cell_type": "markdown",
      "source": [
        "Then let's write the GN class that takes 3 update models as its' arguments. `num_passes` is the number of times we perform node, edge, global updates."
      ],
      "metadata": {
        "id": "kwQDNkbt6dFQ"
      }
    },
    {
      "cell_type": "code",
      "source": [
        "from torch_geometric.nn import global_mean_pool\n",
        "\n",
        "class GN(torch.nn.Module):\n",
        "\n",
        "  def __init__(self, edge_model, node_model, global_model, num_passes):\n",
        "    super().__init__()\n",
        "    torch.manual_seed(12345)\n",
        "    self.edge_model = edge_model\n",
        "    self.node_model = node_model\n",
        "    self.global_model = global_model\n",
        "    num_features = dataset.num_features + dataset.num_edge_features\n",
        "    num_features += dataset[0].u.size(1)\n",
        "    self.lin = torch.nn.Linear(num_features, dataset.num_classes)\n",
        "    self.num_passes = num_passes\n",
        "    self.reset_parameters()\n",
        "\n",
        "  def reset_parameters(self):\n",
        "    for item in [self.node_model, self.edge_model, self.global_model]:\n",
        "      if hasattr(item, 'reset_parameters'):\n",
        "        item.reset_parameters()\n",
        "\n",
        "  # TODO: write the forward pass together\n",
        "\n",
        "  def __repr__(self) -> str:\n",
        "      return (f'{self.__class__.__name__}(\\n'\n",
        "              f'  edge_model={self.edge_model},\\n'\n",
        "              f'  node_model={self.node_model},\\n'\n",
        "              f'  global_model={self.global_model}\\n'\n",
        "              f')')"
      ],
      "metadata": {
        "id": "GY22vszgaEvP"
      },
      "execution_count": null,
      "outputs": []
    },
    {
      "cell_type": "markdown",
      "source": [
        "So we can start training:"
      ],
      "metadata": {
        "id": "nQvY5EWFPAoj"
      }
    },
    {
      "cell_type": "code",
      "source": [
        "from IPython.display import Javascript\n",
        "display(Javascript('''google.colab.output.setIframeHeight(0, true, {maxHeight: 300})'''))\n",
        "\n",
        "edge_model, node_model, global_model = EdgeModel(64), NodeModel(64), GlobalModel(64)\n",
        "NUM_PASSES = 3\n",
        "\n",
        "gn_model = GN(edge_model, node_model, global_model, NUM_PASSES)\n",
        "optimizer = torch.optim.Adam(gn_model.parameters(), lr=0.01)\n",
        "loss_function = torch.nn.CrossEntropyLoss()\n",
        "\n",
        "print(gn_model)\n",
        "torch.manual_seed(12345)\n",
        "\n",
        "def train():\n",
        "    gn_model.train()\n",
        "\n",
        "    for data in train_loader: # Iterate over the batches of grahs\n",
        "         out = gn_model(data.x, data.edge_attr, data.u, data.edge_index, data.batch)  # Forward pass(es)\n",
        "         loss = loss_function(out, data.y)  # Compute the loss\n",
        "         loss.backward() # Compute the gradients\n",
        "         optimizer.step()  # Update the weights based on the computed gradients\n",
        "         optimizer.zero_grad() # Clear the computed gradients\n",
        "\n",
        "def test(loader):\n",
        "     gn_model.eval()\n",
        "\n",
        "     correct = 0\n",
        "     for data in loader:\n",
        "         out = gn_model(data.x, data.edge_attr, data.u, data.edge_index, data.batch)  # Iterate over the batches\n",
        "         pred = out.argmax(dim=1)  # Predict the labels using the label with the highest probability\n",
        "         correct += int((pred == data.y).sum())  # Check against the ground truth\n",
        "     return correct / len(loader.dataset) # Compute accuracy\n",
        "\n",
        "for epoch in range(1, 120):\n",
        "    train()\n",
        "    train_acc = test(train_loader)\n",
        "    test_acc = test(test_loader)\n",
        "    print(f'Epoch: {epoch:03d}, Train Acc: {train_acc:.4f}, Test Acc: {test_acc:.4f}')"
      ],
      "metadata": {
        "id": "IorF01wyMXra"
      },
      "execution_count": null,
      "outputs": []
    },
    {
      "cell_type": "markdown",
      "source": [
        "The reasons for the fluctations in accuracy can be explained by the rather small dataset (only 38 test graphs), and usually disappear once one applies GNNs to larger datasets."
      ],
      "metadata": {
        "id": "F2w3bA9S7oaU"
      }
    }
  ]
}