{
  "nbformat": 4,
  "nbformat_minor": 0,
  "metadata": {
    "colab": {
      "provenance": [],
      "include_colab_link": true
    },
    "kernelspec": {
      "name": "python3",
      "display_name": "Python 3"
    },
    "language_info": {
      "name": "python"
    }
  },
  "cells": [
    {
      "cell_type": "markdown",
      "metadata": {
        "id": "view-in-github",
        "colab_type": "text"
      },
      "source": [
        "<a href=\"https://colab.research.google.com/github/shahabday/graph-neural-networks/blob/main/Copy_of_0_EquivariantGNNs.ipynb\" target=\"_parent\"><img src=\"https://colab.research.google.com/assets/colab-badge.svg\" alt=\"Open In Colab\"/></a>"
      ]
    },
    {
      "cell_type": "code",
      "source": [
        "# PLEASE, MAKE A COPY OF THIS COLAB BEFORE RUNNING ANYTHING.\n",
        "\n",
        "import torch\n",
        "import os\n",
        "# Install required packages.\n",
        "os.environ['TORCH'] = torch.__version__\n",
        "print(torch.__version__)\n",
        "\n",
        "!pip install -q torch-scatter -f https://data.pyg.org/whl/torch-${TORCH}.html\n",
        "!pip install -q torch-sparse -f https://data.pyg.org/whl/torch-${TORCH}.html\n",
        "!pip install -q torch-cluster -f https://data.pyg.org/whl/torch-${TORCH}.html\n",
        "!pip install -q git+https://github.com/pyg-team/pytorch_geometric.git\n",
        "!pip install -q py3Dmol\n",
        "!pip install -q rdkit-pypi\n",
        "!pip install -q e3nn"
      ],
      "metadata": {
        "id": "5gqdgVTFZhtv",
        "colab": {
          "base_uri": "https://localhost:8080/"
        },
        "outputId": "dc9e2fa9-4e68-4a1e-ee5b-fed1c609105d"
      },
      "execution_count": null,
      "outputs": [
        {
          "output_type": "stream",
          "name": "stdout",
          "text": [
            "2.5.1+cu124\n",
            "\u001b[2K     \u001b[90m━━━━━━━━━━━━━━━━━━━━━━━━━━━━━━━━━━━━━━━━\u001b[0m \u001b[32m10.8/10.8 MB\u001b[0m \u001b[31m90.4 MB/s\u001b[0m eta \u001b[36m0:00:00\u001b[0m\n",
            "\u001b[2K     \u001b[90m━━━━━━━━━━━━━━━━━━━━━━━━━━━━━━━━━━━━━━━━\u001b[0m \u001b[32m5.2/5.2 MB\u001b[0m \u001b[31m23.6 MB/s\u001b[0m eta \u001b[36m0:00:00\u001b[0m\n",
            "\u001b[2K     \u001b[90m━━━━━━━━━━━━━━━━━━━━━━━━━━━━━━━━━━━━━━━━\u001b[0m \u001b[32m3.4/3.4 MB\u001b[0m \u001b[31m48.0 MB/s\u001b[0m eta \u001b[36m0:00:00\u001b[0m\n",
            "\u001b[?25h  Installing build dependencies ... \u001b[?25l\u001b[?25hdone\n",
            "  Getting requirements to build wheel ... \u001b[?25l\u001b[?25hdone\n",
            "  Preparing metadata (pyproject.toml) ... \u001b[?25l\u001b[?25hdone\n",
            "\u001b[2K   \u001b[90m━━━━━━━━━━━━━━━━━━━━━━━━━━━━━━━━━━━━━━━━\u001b[0m \u001b[32m194.8/194.8 kB\u001b[0m \u001b[31m6.3 MB/s\u001b[0m eta \u001b[36m0:00:00\u001b[0m\n",
            "\u001b[?25h  Building wheel for torch-geometric (pyproject.toml) ... \u001b[?25l\u001b[?25hdone\n",
            "\u001b[2K   \u001b[90m━━━━━━━━━━━━━━━━━━━━━━━━━━━━━━━━━━━━━━━━\u001b[0m \u001b[32m29.4/29.4 MB\u001b[0m \u001b[31m43.0 MB/s\u001b[0m eta \u001b[36m0:00:00\u001b[0m\n",
            "\u001b[2K   \u001b[90m━━━━━━━━━━━━━━━━━━━━━━━━━━━━━━━━━━━━━━━━\u001b[0m \u001b[32m447.7/447.7 kB\u001b[0m \u001b[31m12.3 MB/s\u001b[0m eta \u001b[36m0:00:00\u001b[0m\n",
            "\u001b[2K   \u001b[90m━━━━━━━━━━━━━━━━━━━━━━━━━━━━━━━━━━━━━━━━\u001b[0m \u001b[32m363.4/363.4 MB\u001b[0m \u001b[31m3.3 MB/s\u001b[0m eta \u001b[36m0:00:00\u001b[0m\n",
            "\u001b[2K   \u001b[90m━━━━━━━━━━━━━━━━━━━━━━━━━━━━━━━━━━━━━━━━\u001b[0m \u001b[32m13.8/13.8 MB\u001b[0m \u001b[31m75.0 MB/s\u001b[0m eta \u001b[36m0:00:00\u001b[0m\n",
            "\u001b[2K   \u001b[90m━━━━━━━━━━━━━━━━━━━━━━━━━━━━━━━━━━━━━━━━\u001b[0m \u001b[32m24.6/24.6 MB\u001b[0m \u001b[31m63.3 MB/s\u001b[0m eta \u001b[36m0:00:00\u001b[0m\n",
            "\u001b[2K   \u001b[90m━━━━━━━━━━━━━━━━━━━━━━━━━━━━━━━━━━━━━━━━\u001b[0m \u001b[32m883.7/883.7 kB\u001b[0m \u001b[31m46.0 MB/s\u001b[0m eta \u001b[36m0:00:00\u001b[0m\n",
            "\u001b[2K   \u001b[90m━━━━━━━━━━━━━━━━━━━━━━━━━━━━━━━━━━━━━━━━\u001b[0m \u001b[32m664.8/664.8 MB\u001b[0m \u001b[31m2.2 MB/s\u001b[0m eta \u001b[36m0:00:00\u001b[0m\n",
            "\u001b[2K   \u001b[90m━━━━━━━━━━━━━━━━━━━━━━━━━━━━━━━━━━━━━━━━\u001b[0m \u001b[32m211.5/211.5 MB\u001b[0m \u001b[31m6.2 MB/s\u001b[0m eta \u001b[36m0:00:00\u001b[0m\n",
            "\u001b[2K   \u001b[90m━━━━━━━━━━━━━━━━━━━━━━━━━━━━━━━━━━━━━━━━\u001b[0m \u001b[32m56.3/56.3 MB\u001b[0m \u001b[31m33.4 MB/s\u001b[0m eta \u001b[36m0:00:00\u001b[0m\n",
            "\u001b[2K   \u001b[90m━━━━━━━━━━━━━━━━━━━━━━━━━━━━━━━━━━━━━━━━\u001b[0m \u001b[32m127.9/127.9 MB\u001b[0m \u001b[31m7.4 MB/s\u001b[0m eta \u001b[36m0:00:00\u001b[0m\n",
            "\u001b[2K   \u001b[90m━━━━━━━━━━━━━━━━━━━━━━━━━━━━━━━━━━━━━━━━\u001b[0m \u001b[32m207.5/207.5 MB\u001b[0m \u001b[31m5.3 MB/s\u001b[0m eta \u001b[36m0:00:00\u001b[0m\n",
            "\u001b[2K   \u001b[90m━━━━━━━━━━━━━━━━━━━━━━━━━━━━━━━━━━━━━━━━\u001b[0m \u001b[32m21.1/21.1 MB\u001b[0m \u001b[31m81.4 MB/s\u001b[0m eta \u001b[36m0:00:00\u001b[0m\n",
            "\u001b[?25h"
          ]
        }
      ]
    },
    {
      "cell_type": "code",
      "source": [
        "import gdown\n",
        "import math\n",
        "import matplotlib.pyplot as plt\n",
        "import numpy as np\n",
        "import os\n",
        "import pandas as pd\n",
        "import plotly.graph_objects as go\n",
        "import random\n",
        "import seaborn as sns\n",
        "import time\n",
        "import torch\n",
        "import torch_geometric.transforms as T\n",
        "\n",
        "\n",
        "from e3nn import o3\n",
        "from e3nn.o3 import Irreps\n",
        "from plotly.subplots import make_subplots\n",
        "from scipy.stats import ortho_group\n",
        "from torch_geometric.data import Data, InMemoryDataset, download_url, extract_zip\n",
        "from torch_geometric.data import Batch\n",
        "from torch_geometric.datasets import QM9\n",
        "from torch_geometric.utils import remove_self_loops, to_dense_adj, dense_to_sparse\n",
        "from torch_geometric.loader import DataLoader\n",
        "from torch_geometric.nn import MessagePassing, global_mean_pool, MLP\n",
        "from torch_geometric.transforms import BaseTransform\n",
        "from torch_scatter import scatter\n",
        "\n",
        "import rdkit.Chem as Chem\n",
        "from rdkit.Geometry.rdGeometry import Point3D\n",
        "from rdkit.Chem import QED, Crippen, rdMolDescriptors, rdmolops\n",
        "from rdkit.Chem.Draw import IPythonConsole\n",
        "\n",
        "# Packages for plotting molecules\n",
        "import py3Dmol\n",
        "from rdkit.Chem import AllChem\n",
        "\n",
        "\n",
        "from IPython.display import HTML"
      ],
      "metadata": {
        "id": "naYdq1g2ii2-"
      },
      "execution_count": null,
      "outputs": []
    },
    {
      "cell_type": "code",
      "source": [
        "# A helper function to set a random seed\n",
        "def seed(seed):\n",
        "    random.seed(seed)\n",
        "    np.random.seed(seed)\n",
        "    torch.manual_seed(seed)\n",
        "    torch.cuda.manual_seed(seed)\n",
        "    torch.cuda.manual_seed_all(seed)\n",
        "    torch.backends.cudnn.deterministic = True\n",
        "    torch.backends.cudnn.benchmark = False\n",
        "\n",
        "seed(12345)"
      ],
      "metadata": {
        "id": "onpUJhhNi9q3"
      },
      "execution_count": null,
      "outputs": []
    },
    {
      "cell_type": "code",
      "source": [
        "# Some useful transforms\n",
        "class SetTarget(BaseTransform):\n",
        "    \"\"\"\n",
        "    This transform modifies the labels vector per data sample to only keep\n",
        "    the label for a specific target (there are 19 targets in QM9).\n",
        "    \"\"\"\n",
        "    def __call__(self, data):\n",
        "        # A hardcoded choice of target (EDM)\n",
        "        target = 0\n",
        "        data.y = data.y[:, target]\n",
        "        return data\n",
        "\n",
        "\n",
        "class CompleteGraph(BaseTransform):\n",
        "    \"\"\"\n",
        "    This transform adds all pairwise edges into the edge index per data sample,\n",
        "    then removes self loops, i.e. it builds a fully connected or complete graph\n",
        "    \"\"\"\n",
        "    def __call__(self, data):\n",
        "        device = data.edge_index.device\n",
        "\n",
        "        row = torch.arange(data.num_nodes, dtype=torch.long, device=device)\n",
        "        col = torch.arange(data.num_nodes, dtype=torch.long, device=device)\n",
        "\n",
        "        row = row.view(-1, 1).repeat(1, data.num_nodes).view(-1)\n",
        "        col = col.repeat(data.num_nodes)\n",
        "        edge_index = torch.stack([row, col], dim=0)\n",
        "\n",
        "        edge_attr = None\n",
        "        if data.edge_attr is not None:\n",
        "            idx = data.edge_index[0] * data.num_nodes + data.edge_index[1]\n",
        "            size = list(data.edge_attr.size())\n",
        "            size[0] = data.num_nodes * data.num_nodes\n",
        "            edge_attr = data.edge_attr.new_zeros(size)\n",
        "            edge_attr[idx] = data.edge_attr\n",
        "\n",
        "        edge_index, edge_attr = remove_self_loops(edge_index, edge_attr)\n",
        "        data.edge_attr = edge_attr\n",
        "        data.edge_index = edge_index\n",
        "\n",
        "        return data"
      ],
      "metadata": {
        "id": "Qlio6nJnk3uH"
      },
      "execution_count": null,
      "outputs": []
    },
    {
      "cell_type": "markdown",
      "source": [
        "There are a lot of helper functions for visualization of molecules and some geometric properties given below. You don't need to understand the code, it's sufficient to just use them."
      ],
      "metadata": {
        "id": "RUwohCj2uvKO"
      }
    },
    {
      "cell_type": "code",
      "source": [
        "# Helper function to plotting molecules with rdkit package\n",
        "allowable_atoms = [\n",
        "    \"H\",\n",
        "    \"C\",\n",
        "    \"N\",\n",
        "    \"O\",\n",
        "    \"F\",\n",
        "    \"C\",\n",
        "    \"Cl\",\n",
        "    \"Br\",\n",
        "    \"I\",\n",
        "    \"H\",\n",
        "    \"Unknown\",\n",
        "]\n",
        "\n",
        "def to_atom(t):\n",
        "    try:\n",
        "        return allowable_atoms[int(t.argmax())]\n",
        "    except:\n",
        "        return \"C\"\n",
        "\n",
        "\n",
        "def to_bond_index(t):\n",
        "    t_s = t.squeeze()\n",
        "    return [1, 2, 3, 4][\n",
        "        int(\n",
        "            torch.dot(\n",
        "                t_s,\n",
        "                torch.tensor(\n",
        "                    range(t_s.size()[0]), dtype=torch.float, device=t.device\n",
        "                ),\n",
        "            ).item()\n",
        "        )\n",
        "    ]\n",
        "\n",
        "def to_rdkit(data, device=None):\n",
        "    has_pos = False\n",
        "    node_list = []\n",
        "    for i in range(data.x.size()[0]):\n",
        "        node_list.append(to_atom(data.x[i][:5]))\n",
        "\n",
        "    # create empty editable mol object\n",
        "    mol = Chem.RWMol()\n",
        "    # add atoms to mol and keep track of index\n",
        "    node_to_idx = {}\n",
        "    invalid_idx = set([])\n",
        "    for i in range(len(node_list)):\n",
        "        if node_list[i] == \"Stop\" or node_list[i] == \"H\":\n",
        "            invalid_idx.add(i)\n",
        "            continue\n",
        "        a = Chem.Atom(node_list[i])\n",
        "        molIdx = mol.AddAtom(a)\n",
        "        node_to_idx[i] = molIdx\n",
        "\n",
        "    added_bonds = set([])\n",
        "    for i in range(0, data.edge_index.size()[1]):\n",
        "        ix = data.edge_index[0][i].item()\n",
        "        iy = data.edge_index[1][i].item()\n",
        "        bond = to_bond_index(data.edge_attr[i])  # <font color='red'>TODO</font> fix this\n",
        "        # bond = 1\n",
        "        # add bonds between adjacent atoms\n",
        "\n",
        "        if data.edge_attr[i].sum() == 0:\n",
        "          continue\n",
        "\n",
        "        if (\n",
        "            (str((ix, iy)) in added_bonds)\n",
        "            or (str((iy, ix)) in added_bonds)\n",
        "            or (iy in invalid_idx or ix in invalid_idx)\n",
        "        ):\n",
        "            continue\n",
        "        # add relevant bond type (there are many more of these)\n",
        "\n",
        "        if bond == 0:\n",
        "            continue\n",
        "        elif bond == 1:\n",
        "            bond_type = Chem.rdchem.BondType.SINGLE\n",
        "            mol.AddBond(node_to_idx[ix], node_to_idx[iy], bond_type)\n",
        "        elif bond == 2:\n",
        "            bond_type = Chem.rdchem.BondType.DOUBLE\n",
        "            mol.AddBond(node_to_idx[ix], node_to_idx[iy], bond_type)\n",
        "        elif bond == 3:\n",
        "            bond_type = Chem.rdchem.BondType.TRIPLE\n",
        "            mol.AddBond(node_to_idx[ix], node_to_idx[iy], bond_type)\n",
        "        elif bond == 4:\n",
        "            bond_type = Chem.rdchem.BondType.SINGLE\n",
        "            mol.AddBond(node_to_idx[ix], node_to_idx[iy], bond_type)\n",
        "\n",
        "        added_bonds.add(str((ix, iy)))\n",
        "\n",
        "    if has_pos:\n",
        "        conf = Chem.Conformer(mol.GetNumAtoms())\n",
        "        for i in range(data.pos.size(0)):\n",
        "            if i in invalid_idx:\n",
        "                continue\n",
        "            p = Point3D(\n",
        "                data.pos[i][0].item(),\n",
        "                data.pos[i][1].item(),\n",
        "                data.pos[i][2].item(),\n",
        "            )\n",
        "            conf.SetAtomPosition(node_to_idx[i], p)\n",
        "        conf.SetId(0)\n",
        "        mol.AddConformer(conf)\n",
        "\n",
        "    # Convert RWMol to Mol object\n",
        "    mol = mol.GetMol()\n",
        "    mol_frags = rdmolops.GetMolFrags(mol, asMols=True, sanitizeFrags=False)\n",
        "    largest_mol = max(mol_frags, default=mol, key=lambda m: m.GetNumAtoms())\n",
        "    return largest_mol\n",
        "\n",
        "\n",
        "\n",
        "def MolTo3DView(mol, size=(300, 300), style=\"stick\", surface=False, opacity=0.5):\n",
        "    \"\"\"Draw molecule in 3D\n",
        "\n",
        "    Args:\n",
        "    ----\n",
        "        mol: rdMol, molecule to show\n",
        "        size: tuple(int, int), canvas size\n",
        "        style: str, type of drawing molecule\n",
        "               style can be 'line', 'stick', 'sphere', 'carton'\n",
        "        surface, bool, display SAS\n",
        "        opacity, float, opacity of surface, range 0.0-1.0\n",
        "    Return:\n",
        "    ----\n",
        "        viewer: py3Dmol.view, a class for constructing embedded 3Dmol.js views in ipython notebooks.\n",
        "    \"\"\"\n",
        "    assert style in ('line', 'stick', 'sphere', 'carton')\n",
        "\n",
        "    mol = Chem.AddHs(mol)\n",
        "    AllChem.EmbedMolecule(mol)\n",
        "    AllChem.MMFFOptimizeMolecule(mol, maxIters=200)\n",
        "    mblock = Chem.MolToMolBlock(mol)\n",
        "    viewer = py3Dmol.view(width=size[0], height=size[1])\n",
        "    viewer.addModel(mblock, 'mol')\n",
        "    viewer.setStyle({style:{}})\n",
        "    if surface:\n",
        "        viewer.addSurface(py3Dmol.SAS, {'opacity': opacity})\n",
        "    viewer.zoomTo()\n",
        "    return viewer\n",
        "\n",
        "def smi2conf(smiles):\n",
        "    '''Convert SMILES to rdkit.Mol with 3D coordinates'''\n",
        "    mol = Chem.MolFromSmiles(smiles)\n",
        "    if mol is not None:\n",
        "        mol = Chem.AddHs(mol)\n",
        "        AllChem.EmbedMolecule(mol)\n",
        "        AllChem.MMFFOptimizeMolecule(mol, maxIters=200)\n",
        "        return mol\n",
        "    else:\n",
        "        return None\n",
        "\n",
        "\n",
        "# Spherical harmonics visualization helpers\n",
        "axis = dict(\n",
        "    showbackground=False,\n",
        "    showticklabels=False,\n",
        "    showgrid=False,\n",
        "    zeroline=False,\n",
        "    title='',\n",
        ")\n",
        "\n",
        "layout = dict(\n",
        "    showlegend=False,\n",
        "    scene=dict(\n",
        "        aspectmode=\"data\",\n",
        "        xaxis=dict(\n",
        "            **axis,\n",
        "        ),\n",
        "        yaxis=dict(\n",
        "            **axis,\n",
        "        ),\n",
        "        zaxis=dict(\n",
        "            **axis,\n",
        "        ),\n",
        "    ),\n",
        "    paper_bgcolor=\"rgba(0,0,0,0)\",\n",
        "    plot_bgcolor=\"rgba(0,0,0,0)\",\n",
        "    margin=dict(l=0, r=0, t=0, b=0)\n",
        ")\n",
        "\n",
        "def s2_grid(N=100):\n",
        "    \"\"\" Create grid on which we can sample spherical signals \"\"\"\n",
        "    betas = torch.linspace(0, math.pi, int(N/2))\n",
        "    alphas = torch.linspace(0, 2 * math.pi, N)\n",
        "    beta, alpha = torch.meshgrid(betas, alphas)\n",
        "    return o3.angles_to_xyz(alpha, beta)\n",
        "\n",
        "def sh_trace(sh, cmin, cmax, grid, warp=True, pos=None):\n",
        "\n",
        "    if warp:\n",
        "        grid = grid*sh.abs().unsqueeze(-1)\n",
        "\n",
        "    if pos is not None:\n",
        "        grid = grid + pos\n",
        "\n",
        "    # Plot nodes\n",
        "    x = grid[..., 0]\n",
        "    y = grid[..., 1]\n",
        "    z = grid[..., 2]\n",
        "    trace = go.Surface(x=x, y=y, z=z, surfacecolor=sh, colorscale='RdBu_r', cmin=cmin, cmax=cmax)\n",
        "    return trace\n",
        "\n",
        "def plot_all_shs(lmax, grid=s2_grid(), warp=True):\n",
        "    fig = go.Figure(layout=layout)\n",
        "\n",
        "    irreps = Irreps.spherical_harmonics(lmax)\n",
        "    shs = o3.spherical_harmonics(irreps, grid, True)\n",
        "\n",
        "    cmin = shs.min().item()\n",
        "    cmax = shs.max().item()\n",
        "\n",
        "    for l in range(irreps.lmax+1):\n",
        "        for m in range(-l, l+1):\n",
        "            i = 2*l + m\n",
        "            pos = torch.tensor([0, 2*m, -2*l])\n",
        "            trace = sh_trace(shs[..., i], cmin, cmax, grid=grid, warp=warp, pos=pos)\n",
        "            fig.add_trace(trace)\n",
        "\n",
        "    fig.show()\n",
        "\n",
        "def sphere_trace(coefficients, l_max, grid=s2_grid(), warp=True):\n",
        "    irreps = Irreps.spherical_harmonics(l_max)\n",
        "    shs = o3.spherical_harmonics(irreps, grid, True)\n",
        "\n",
        "    shs *= coefficients.view(1, 1, -1)\n",
        "    shs = shs.sum(-1)\n",
        "\n",
        "    cmin = shs.min().item()\n",
        "    cmax = shs.max().item()\n",
        "\n",
        "    trace = sh_trace(shs, cmin, cmax, grid=grid, warp=warp)\n",
        "    return trace\n",
        "\n",
        "def plot_sphere(coefficients, l_max, grid=s2_grid(), warp=True):\n",
        "    fig = go.Figure(layout=layout)\n",
        "\n",
        "    trace = sphere_trace(coefficients, l_max, grid=grid, warp=warp)\n",
        "    fig.add_trace(trace)\n",
        "    fig.show()\n",
        "\n",
        "def plot_dirac(degrees, grid, warp=False):\n",
        "    fig = make_subplots(\n",
        "        rows=1, cols=len(degrees), specs=[[{'is_3d': True} for _ in degrees]],\n",
        "        shared_xaxes=True, shared_yaxes=True,\n",
        "    )\n",
        "\n",
        "    for i, l in enumerate(degrees, start=1):\n",
        "        shs = o3.spherical_harmonics(Irreps.spherical_harmonics(l), grid, True)\n",
        "        c = shs[10, 20] * np.sin(np.pi / 10)\n",
        "        fig.add_trace(sphere_trace(c, l, grid, warp=warp), 1, i)\n",
        "\n",
        "    fig.update_layout(layout)\n",
        "    fig.update_scenes(xaxis_visible=False, yaxis_visible=False, zaxis_visible=False)\n",
        "    fig.update_traces(showscale=False)\n",
        "    fig.show()"
      ],
      "metadata": {
        "id": "Le2lXhyulIob",
        "colab": {
          "base_uri": "https://localhost:8080/"
        },
        "outputId": "2a07f5bd-d7f2-460b-bec2-3ce320c4c96f"
      },
      "execution_count": null,
      "outputs": [
        {
          "output_type": "stream",
          "name": "stderr",
          "text": [
            "/usr/local/lib/python3.11/dist-packages/torch/functional.py:534: UserWarning: torch.meshgrid: in an upcoming release, it will be required to pass the indexing argument. (Triggered internally at ../aten/src/ATen/native/TensorShape.cpp:3595.)\n",
            "  return _VF.meshgrid(tensors, **kwargs)  # type: ignore[attr-defined]\n"
          ]
        }
      ]
    },
    {
      "cell_type": "code",
      "source": [
        "# Dictionary and a dataframe for storing experimental results\n",
        "RESULTS = {}\n",
        "DF_RESULTS = pd.DataFrame(columns=[\"Test MAE\", \"Val MAE\", \"Epoch\", \"Model\"])"
      ],
      "metadata": {
        "id": "XSDMMwLBlSEl"
      },
      "execution_count": null,
      "outputs": []
    },
    {
      "cell_type": "markdown",
      "source": [
        "### Resources:\n",
        "\n",
        "- [E(n) Equivariant Graph Neural Networks](https://arxiv.org/abs/2102.09844)\n",
        "- [Tensor Field Networks](https://arxiv.org/abs/1802.08219)\n",
        "- [On the Expressive Power of Geometric Graph Neural Networks](https://arxiv.org/abs/2301.09308)\n",
        "- [SMILES representation](https://de.wikipedia.org/wiki/Simplified_Molecular_Input_Line_Entry_System)\n"
      ],
      "metadata": {
        "id": "81bc5wNKt6dP"
      }
    },
    {
      "cell_type": "markdown",
      "source": [
        "#### Sources:\n",
        "\n",
        "A large part of the notebook material was taken from:\n",
        "\n",
        "1. [Cambridge GDL practical](https://github.com/chaitjo/geometric-gnn-dojo)\n",
        "2. [Amsterdam University tutorial on equivariant GNNs](https://colab.research.google.com/drive/1gJhyeQiK7dh2xN6gwVkpIhiTkBVwO9YV?usp=sharing#scrollTo=M0_8Su5JC5yp)\n",
        "\n",
        "**NOTE:** *The solutions for the Cambridge GDL practical given here are not unique and represent just one possible way to implement it.*"
      ],
      "metadata": {
        "id": "uThbvwb8kneN"
      }
    },
    {
      "cell_type": "markdown",
      "source": [
        "# Geometric Deep Learning on Graphs\n",
        "\n",
        "This colab will walk us through the main principles of building graph neural networks that heavily utilize geometric information and obey certain principles of invariance and equivariance with respect to some transformations. These models are typically used in physics, chemistry, 3D computer vision, computational biology, but one could also use them for a wider range of problems where geometric information is valuable.\n",
        "\n",
        "<div align=\"center\">\n",
        "    <img src=\"https://drive.google.com/uc?export=view&id=1bE5mfpUTs30_6UrpXtvI-knY0YtQmSsK\" width=\"500\" height=\"500\"/>\n",
        "    <br>\n",
        "</div>\n",
        "\n",
        "## Real world application\n",
        "\n",
        "1. The most prominent example of application of equivariant GNNs is the model from DeepMind - AlphaFold2.\n",
        "\n",
        "- [AlphaFold2](https://www.nature.com/articles/s41586-021-03819-2) first saw the world in 2020.  \n",
        "- It has solved a 50-year-old challenge of protein folding.\n",
        "- Given an input sequence of amino acids that comprise a protein, AlphaFold 2 generates their joint 3D structure.\n",
        "-  AlphaFold system achieves a median score of 92.4 GDT (percentage of amino acid residues within a threshold distance from the correct position) A score of 90 GDT is considered to be competitive with results obtained from experimental methods.\n",
        "\n",
        "<div align=\"center\">\n",
        "    <img src=\"https://drive.google.com/uc?export=view&id=1Syo7bHEGi1dz84conwfAW4R2pHiV_W-Y\"\n",
        "    <br>\n",
        "</div>\n",
        "\n",
        "<div align=\"center\">\n",
        "    <img src=\"https://drive.google.com/uc?export=view&id=1-4AVhH277cWKroCIGk_PeiH3nO6X0n2-\"\n",
        "    <br>\n",
        "</div>\n",
        "\n",
        "**NOTE:** *AlphaFold 3 ditched equivariance, since the results were better without it and the reasons are yet to be understood. (Perhaps, the diffusion used in it implicitly models equivariance).*\n",
        "\n",
        "\n",
        "2. Another famous example of GNNs being used in molecular property prediction is in the world of antibiotic discovery.\n",
        "\n",
        "- A GNN trained to predict how much a molecule would inhibit a bacteria was able to identify the previously overlooked compound [**Halicin**](https://news.mit.edu/2020/artificial-intelligence-identifies-new-antibiotic-0220) during virtual screening.\n",
        "- Halicin showed powerful results during *in vitro* (in cell) testing.\n",
        "- It has a completely novel mechanism of action that no bacteria has developed resistance to (yet).\n",
        "\n",
        "<img src=\"https://upload.wikimedia.org/wikipedia/commons/thumb/3/3a/Halicin.svg/440px-Halicin.svg.png\" width=\"50%\">\n"
      ],
      "metadata": {
        "id": "zsxltvpbxLZU"
      }
    },
    {
      "cell_type": "markdown",
      "source": [
        "## Molecular Property Prediction (Recap)\n",
        "\n",
        "Let's return to the molecular property prediction task one more time to study in detail the notions of invariance and equivariance in GNNs.\n",
        "\n",
        "Molecules are a great example of an object from nature that can easily be represented as a graph of atoms (nodes) connected by bonds (edges). Once a GNN is trained, the model's predictions can then be used to guide the drug design process.\n",
        "\n",
        "<img src=\"https://drive.google.com/uc?id=1C1tA-DwFhkEKP1I6gizhIZOxQBhooz8D\" align=\"center\">\n",
        "\n",
        "\n",
        "## The QM9 Dataset\n",
        "\n",
        "QM9 (Quantum Mechanics dataset 9) is a dataset consisting of about **130,000 small molecules** with 19 regression targets. Since being used by [MoleculeNet](https://arxiv.org/abs/1703.00564), it has become a popular dataset to benchmark new architectures for molecular property prediction.\n",
        "\n",
        "Specifically, we will be predicting the [electric dipole moment](https://en.wikipedia.org/wiki/Electric_dipole_moment) of drug-like molecules. According to Wikipedia:\n",
        "> \"The electric dipole moment is a measure of the separation of positive and negative electrical charges within a system, that is, a measure of the system's overall polarity.\"\n",
        "\n",
        "We can visualize this concept via the water molecule H<sub>2</sub>0, which forms a dipole due to its slightly different distribution of negative (red) and postive (blue) charge.\n",
        "\n",
        "<img src=\"https://upload.wikimedia.org/wikipedia/commons/thumb/1/15/Water-elpot-transparent-3D-balls.png/500px-Water-elpot-transparent-3D-balls.png\" width=\"35%\">\n",
        "\n",
        "You do not need to worry about the physical and chemical principles that underpin dipole moments!\n",
        "\n",
        "- Writing the equations from first priciples to predict a property like this, espeically for complex molecules (e.g. proteins), is very difficult.\n",
        "- However, these molecules can be represented as graphs with node and edge features as well as **spatial information** that we can use to train a GNN model using the ground truth labels.\n",
        "\n",
        "Let's load the QM9 dataset and explore how molecular graphs are represented."
      ],
      "metadata": {
        "id": "DiqA0HiYlizj"
      }
    },
    {
      "cell_type": "code",
      "source": [
        "def download_data(file_id: str, file_name: str, destination_dir: str=\"qm9\") -> None:\n",
        "    url = f'https://drive.google.com/uc?id={file_id}'\n",
        "    destination_dir = os.path.join(destination_dir, \"raw\")\n",
        "    if not os.path.exists(destination_dir):\n",
        "        os.makedirs(destination_dir)\n",
        "    destination_path = os.path.join(destination_dir, file_name)\n",
        "    gdown.download(url, destination_path, quiet=True)\n",
        "\n",
        "file_id_name = (\"1uAsmRl0P40a8W8CN2s7ig3Xo7Z9QQ2Tk\", \"uncharacterized.txt\")\n",
        "\n",
        "# Download the file needed for the preprocessing of the dataset\n",
        "download_data(*file_id_name)"
      ],
      "metadata": {
        "id": "iWZ4dJ9Sf7Dd",
        "outputId": "1988d8a7-cca5-47a5-dfc4-c7e411446670",
        "colab": {
          "base_uri": "https://localhost:8080/",
          "height": 297
        }
      },
      "execution_count": 1,
      "outputs": [
        {
          "output_type": "error",
          "ename": "NameError",
          "evalue": "name 'os' is not defined",
          "traceback": [
            "\u001b[0;31m---------------------------------------------------------------------------\u001b[0m",
            "\u001b[0;31mNameError\u001b[0m                                 Traceback (most recent call last)",
            "\u001b[0;32m<ipython-input-1-7b5fd8354cac>\u001b[0m in \u001b[0;36m<cell line: 0>\u001b[0;34m()\u001b[0m\n\u001b[1;32m     10\u001b[0m \u001b[0;34m\u001b[0m\u001b[0m\n\u001b[1;32m     11\u001b[0m \u001b[0;31m# Download the file needed for the preprocessing of the dataset\u001b[0m\u001b[0;34m\u001b[0m\u001b[0;34m\u001b[0m\u001b[0m\n\u001b[0;32m---> 12\u001b[0;31m \u001b[0mdownload_data\u001b[0m\u001b[0;34m(\u001b[0m\u001b[0;34m*\u001b[0m\u001b[0mfile_id_name\u001b[0m\u001b[0;34m)\u001b[0m\u001b[0;34m\u001b[0m\u001b[0;34m\u001b[0m\u001b[0m\n\u001b[0m",
            "\u001b[0;32m<ipython-input-1-7b5fd8354cac>\u001b[0m in \u001b[0;36mdownload_data\u001b[0;34m(file_id, file_name, destination_dir)\u001b[0m\n\u001b[1;32m      1\u001b[0m \u001b[0;32mdef\u001b[0m \u001b[0mdownload_data\u001b[0m\u001b[0;34m(\u001b[0m\u001b[0mfile_id\u001b[0m\u001b[0;34m:\u001b[0m \u001b[0mstr\u001b[0m\u001b[0;34m,\u001b[0m \u001b[0mfile_name\u001b[0m\u001b[0;34m:\u001b[0m \u001b[0mstr\u001b[0m\u001b[0;34m,\u001b[0m \u001b[0mdestination_dir\u001b[0m\u001b[0;34m:\u001b[0m \u001b[0mstr\u001b[0m\u001b[0;34m=\u001b[0m\u001b[0;34m\"qm9\"\u001b[0m\u001b[0;34m)\u001b[0m \u001b[0;34m->\u001b[0m \u001b[0;32mNone\u001b[0m\u001b[0;34m:\u001b[0m\u001b[0;34m\u001b[0m\u001b[0;34m\u001b[0m\u001b[0m\n\u001b[1;32m      2\u001b[0m     \u001b[0murl\u001b[0m \u001b[0;34m=\u001b[0m \u001b[0;34mf'https://drive.google.com/uc?id={file_id}'\u001b[0m\u001b[0;34m\u001b[0m\u001b[0;34m\u001b[0m\u001b[0m\n\u001b[0;32m----> 3\u001b[0;31m     \u001b[0mdestination_dir\u001b[0m \u001b[0;34m=\u001b[0m \u001b[0mos\u001b[0m\u001b[0;34m.\u001b[0m\u001b[0mpath\u001b[0m\u001b[0;34m.\u001b[0m\u001b[0mjoin\u001b[0m\u001b[0;34m(\u001b[0m\u001b[0mdestination_dir\u001b[0m\u001b[0;34m,\u001b[0m \u001b[0;34m\"raw\"\u001b[0m\u001b[0;34m)\u001b[0m\u001b[0;34m\u001b[0m\u001b[0;34m\u001b[0m\u001b[0m\n\u001b[0m\u001b[1;32m      4\u001b[0m     \u001b[0;32mif\u001b[0m \u001b[0;32mnot\u001b[0m \u001b[0mos\u001b[0m\u001b[0;34m.\u001b[0m\u001b[0mpath\u001b[0m\u001b[0;34m.\u001b[0m\u001b[0mexists\u001b[0m\u001b[0;34m(\u001b[0m\u001b[0mdestination_dir\u001b[0m\u001b[0;34m)\u001b[0m\u001b[0;34m:\u001b[0m\u001b[0;34m\u001b[0m\u001b[0;34m\u001b[0m\u001b[0m\n\u001b[1;32m      5\u001b[0m         \u001b[0mos\u001b[0m\u001b[0;34m.\u001b[0m\u001b[0mmakedirs\u001b[0m\u001b[0;34m(\u001b[0m\u001b[0mdestination_dir\u001b[0m\u001b[0;34m)\u001b[0m\u001b[0;34m\u001b[0m\u001b[0;34m\u001b[0m\u001b[0m\n",
            "\u001b[0;31mNameError\u001b[0m: name 'os' is not defined"
          ]
        }
      ]
    },
    {
      "cell_type": "code",
      "source": [
        "class QM9FixDownload(QM9):\n",
        "    def download(self) -> None:\n",
        "        try:\n",
        "            import rdkit\n",
        "            file_path = download_url(self.raw_url, self.raw_dir)\n",
        "            extract_zip(file_path, self.raw_dir)\n",
        "            os.unlink(file_path)\n",
        "\n",
        "        except ImportError:\n",
        "            path = download_url(self.processed_url, self.raw_dir)\n",
        "            extract_zip(path, self.raw_dir)\n",
        "            os.unlink(path)"
      ],
      "metadata": {
        "id": "mbvfbpnWptz5"
      },
      "execution_count": null,
      "outputs": []
    },
    {
      "cell_type": "code",
      "source": [
        "path = './qm9'\n",
        "target = 0\n",
        "\n",
        "# Transforms which are applied during data loading:\n",
        "# (1) Fully connect the graphs, (2) Select the target/label\n",
        "transform = T.Compose([CompleteGraph(), SetTarget()])\n",
        "\n",
        "# Load the QM9 dataset with the transforms defined\n",
        "dataset = QM9FixDownload(path, pre_transform=transform)\n",
        "\n",
        "# Normalize targets per data sample to mean = 0 and std = 1.\n",
        "mean = dataset.data.y.mean(dim=0, keepdim=True)\n",
        "std = dataset.data.y.std(dim=0, keepdim=True)\n",
        "dataset.data.y = (dataset.data.y - mean) / std\n",
        "mean, std = mean.item(), std.item()"
      ],
      "metadata": {
        "id": "FR3yR20AZk0r",
        "colab": {
          "base_uri": "https://localhost:8080/"
        },
        "outputId": "493db417-939c-422d-f08d-2edd783819a4"
      },
      "execution_count": null,
      "outputs": [
        {
          "output_type": "stream",
          "name": "stderr",
          "text": [
            "Downloading https://deepchemdata.s3-us-west-1.amazonaws.com/datasets/molnet_publish/qm9.zip\n",
            "Extracting qm9/raw/qm9.zip\n",
            "Processing...\n",
            "100%|██████████| 133885/133885 [03:09<00:00, 707.49it/s]\n",
            "Done!\n",
            "/usr/local/lib/python3.11/dist-packages/torch_geometric/data/in_memory_dataset.py:300: UserWarning: It is not recommended to directly access the internal storage format `data` of an 'InMemoryDataset'. If you are absolutely certain what you are doing, access the internal storage via `InMemoryDataset._data` instead to suppress this warning. Alternatively, you can access stacked individual attributes of every graph via `dataset.{attr_name}`.\n",
            "  warnings.warn(msg)\n"
          ]
        }
      ]
    },
    {
      "cell_type": "markdown",
      "source": [
        "## Data Preparation and Splitting\n",
        "\n",
        "The QM9 dataset has over **130,000** molecular graphs!\n",
        "\n",
        "- We will work with a small subset of **3000** molecular graphs.\n",
        "- Then we will use 1000 graphs for training, validation, and testing.\n"
      ],
      "metadata": {
        "id": "gxiVgpGGqmlG"
      }
    },
    {
      "cell_type": "code",
      "source": [
        "seed(12345)\n",
        "\n",
        "print(f\"Total number of samples: {len(dataset)}.\")\n",
        "# Split datasets (our 3K subset)\n",
        "train_dataset = dataset[:1000]\n",
        "val_dataset = dataset[1000:2000]\n",
        "test_dataset = dataset[2000:3000]\n",
        "print(f\"Created dataset splits with {len(train_dataset)} training, {len(val_dataset)} validation, {len(test_dataset)} test samples.\")\n",
        "\n",
        "# Create dataloaders with batch size = 32\n",
        "train_loader = DataLoader(train_dataset, batch_size=32, shuffle=True)\n",
        "val_loader = DataLoader(val_dataset, batch_size=32, shuffle=False)\n",
        "test_loader = DataLoader(test_dataset, batch_size=32, shuffle=False)"
      ],
      "metadata": {
        "colab": {
          "base_uri": "https://localhost:8080/"
        },
        "id": "fauK9FrzqkSu",
        "outputId": "d90254c3-4a11-41af-8ea2-6c291dccf04c"
      },
      "execution_count": null,
      "outputs": [
        {
          "output_type": "stream",
          "name": "stdout",
          "text": [
            "Total number of samples: 130831.\n",
            "Created dataset splits with 1000 training, 1000 validation, 1000 test samples.\n"
          ]
        }
      ]
    },
    {
      "cell_type": "markdown",
      "source": [
        "## Visualising Molecular Graphs\n",
        "\n",
        "To get a better understanding of how the QM9 molecular graphs look like, let's visualise a few samples from the training set along with their corresponding target (their dipole moment).\n",
        "\n",
        "- In the following plot sparse graphs are visualized, the edges represent physical connections (i.e. bonds).\n",
        "- We will use **fully-connected graphs** and encode the graph structure in the attributes of each node.\n"
      ],
      "metadata": {
        "id": "dSIWMRczq9Ak"
      }
    },
    {
      "cell_type": "code",
      "source": [
        "num_viz = 30\n",
        "mols = [to_rdkit(train_dataset[i]) for i in range(num_viz)]\n",
        "values = [str(round(float(train_dataset[i].y), 3)) for i in range(num_viz)]\n",
        "\n",
        "Chem.Draw.MolsToGridImage(mols, legends=[f\"y = {value}\" for value in values], molsPerRow=5)"
      ],
      "metadata": {
        "id": "myYDPWDlZmog",
        "colab": {
          "base_uri": "https://localhost:8080/",
          "height": 1000
        },
        "outputId": "c4a1f91c-7ce0-4167-c2e4-5100c542be1d"
      },
      "execution_count": null,
      "outputs": [
        {
          "output_type": "execute_result",
          "data": {
            "image/png": "[encoded data removed]",
            "text/plain": [
              "<IPython.core.display.Image object>"
            ]
          },
          "metadata": {},
          "execution_count": 13
        }
      ]
    },
    {
      "cell_type": "markdown",
      "source": [
        "## Dataset understanding\n",
        "\n",
        "Each graph in the dataset is a molecule."
      ],
      "metadata": {
        "id": "xko-jNlPtnTH"
      }
    },
    {
      "cell_type": "code",
      "source": [
        "data = train_dataset[2]\n",
        "print(data)"
      ],
      "metadata": {
        "id": "3bDJ_oPfZoTB",
        "colab": {
          "base_uri": "https://localhost:8080/"
        },
        "outputId": "75023c04-3e08-4e37-fff3-89bf4180c93c"
      },
      "execution_count": null,
      "outputs": [
        {
          "output_type": "stream",
          "name": "stdout",
          "text": [
            "Data(x=[3, 11], edge_index=[2, 6], edge_attr=[6, 4], y=[1], pos=[3, 3], z=[3], smiles='[H]O[H]', name='gdb_3', idx=[1])\n"
          ]
        }
      ]
    },
    {
      "cell_type": "code",
      "source": [
        "data.edge_index"
      ],
      "metadata": {
        "colab": {
          "base_uri": "https://localhost:8080/"
        },
        "id": "wEY6wU4X9Hl2",
        "outputId": "37f1259c-a62e-491b-e595-06a8e8c8a4d9"
      },
      "execution_count": null,
      "outputs": [
        {
          "output_type": "execute_result",
          "data": {
            "text/plain": [
              "tensor([[0, 0, 1, 1, 2, 2],\n",
              "        [1, 2, 0, 2, 0, 1]])"
            ]
          },
          "metadata": {},
          "execution_count": 19
        }
      ]
    },
    {
      "cell_type": "code",
      "source": [
        "data.x"
      ],
      "metadata": {
        "colab": {
          "base_uri": "https://localhost:8080/"
        },
        "id": "lwvlnmT89iek",
        "outputId": "404d2f36-d1ea-4c66-ab19-ed823a88d166"
      },
      "execution_count": null,
      "outputs": [
        {
          "output_type": "execute_result",
          "data": {
            "text/plain": [
              "tensor([[0., 0., 0., 1., 0., 8., 0., 0., 0., 0., 2.],\n",
              "        [1., 0., 0., 0., 0., 1., 0., 0., 0., 0., 0.],\n",
              "        [1., 0., 0., 0., 0., 1., 0., 0., 0., 0., 0.]])"
            ]
          },
          "metadata": {},
          "execution_count": 22
        }
      ]
    },
    {
      "cell_type": "markdown",
      "source": [
        "The graphs come with a number of pre-computed features which are described below (do not worry if you are unfamiliar with the chemistry terms here):\n",
        "\n",
        "**Atom features (`data.x`)** - $\\mathbb{R}^{|V| \\times 11}$\n",
        "- 1st-5th features: Atom type (one-hot: H, C, N, O, F).\n",
        "- 6th feature (also `data.z`): [Atomic number](https://en.wikipedia.org/wiki/Atomic_number) (number of protons).\n",
        "- 7th feature: [Aromaticity](https://en.wikipedia.org/wiki/Aromaticity) (binary).\n",
        "- 8th-10th features: [Electron orbital hybridization](https://en.wikipedia.org/wiki/Orbital_hybridisation) (one-hot: sp, sp2, sp3).\n",
        "- 11th feature: Number of [hydrogen](https://en.wikipedia.org/wiki/Hydrogen) atoms an atom connected to.\n",
        "\n",
        "**Edge Index (`data.edge_index`)** - $\\mathbb{R}^{2×|E|}$\n",
        "- A tensor of dimensions 2 x `num_edges` that describes the edge connectivity of the graph.\n",
        "\n",
        "**Edge features (`data.edge_attr`)** - $\\mathbb{R}^{|E|\\times 4}$\n",
        "- 1st-4th features: atomic bond type (one-hot: single, double, triple, aromatic).\n",
        "\n",
        "**Atom positions (`data.pos`)** - $\\mathbb{R}^{|V|\\times 3}$\n",
        "- 3D coordinates of each atom.\n",
        "\n",
        "**Target (`data.y`)** - $\\mathbb{R}^{1}$\n",
        "- A scalar value corresponding to the molecule's electric dipole moment.\n",
        "\n",
        "**Note:** We will be using **fully-connected graphs** (i.e. all atoms in a molecule are connected to each other, except self-loops). The information about the molecule structures will be available to the models through the edge features (`data.edge_attr`) as follows:\n",
        "- When two atoms are physically connected, the edge attributes indicate the **bond type** (single, double, triple, or aromatic) through a one-hot vector.\n",
        "- When two atoms are not physically connected, **all edge attributes** are **zero**.\n",
        "\n"
      ],
      "metadata": {
        "id": "dA3ObCbOtrJ0"
      }
    },
    {
      "cell_type": "code",
      "source": [
        "mol_stats= (f\"--- {data.x.shape[0]} atoms\\n\"\n",
        "    f\"--- {data.edge_attr.shape[0]} edges\\n\"\n",
        "    f\"--- {data.x.shape[1]}-dimensional node feature for each atom\\n\"\n",
        "    f\"--- {data.pos.shape[1]}-dimensional coordinates for each atom\\n\"\n",
        "    f\"--- {data.edge_attr.shape[1]}-dimensional edge feature vector for each edge\\n\"\n",
        "    f\"--- {data.y.shape[0]} regression target that corresponds to the electric dipole moment\"\n",
        ")\n",
        "\n",
        "print(f\"This molecule has: \\n{mol_stats}\")"
      ],
      "metadata": {
        "id": "mqyhGRxPZpr3",
        "colab": {
          "base_uri": "https://localhost:8080/"
        },
        "outputId": "5f23bc8f-5c6d-44e9-dda4-33e9dfc16606"
      },
      "execution_count": null,
      "outputs": [
        {
          "output_type": "stream",
          "name": "stdout",
          "text": [
            "This molecule has: \n",
            "--- 3 atoms\n",
            "--- 6 edges\n",
            "--- 11-dimensional node feature for each atom\n",
            "--- 3-dimensional coordinates for each atom\n",
            "--- 4-dimensional edge feature vector for each edge\n",
            "--- 1 regression target that corresponds to the electric dipole moment\n"
          ]
        }
      ]
    },
    {
      "cell_type": "markdown",
      "source": [
        "## MPNN recap\n",
        "\n",
        "As a baseline, we will use a simplified version of the MPNN model that we have implemented on day 1 of this course. The message passing mechanism is shown in the picture below:\n",
        "\n",
        "<img src=\"https://drive.google.com/uc?id=1s3InnS0-nGTzuzGOjiHNTtUGE0NB78g7\" width=\"500\" align=\"center\">\n",
        "\n",
        "### Layer update\n",
        "\n",
        "Let's break down the MPNN layer into three steps:\n",
        "- **Step (1): Message.** For each pair of linked nodes $i, j$, the network first computes a message $m_{ij} =  \\psi \\left( h_i^{\\ell}, h_j^{\\ell}, e_{ij} \\right)$. The MLP $\\psi: \\mathbb{R}^{2d + d_e} → \\mathbb{R}^d$ takes as input the concatenation of the feature vectors from the source node, destination node and the edge.\n",
        "- **Step (2): Aggregate.** At each node $i$, the incoming messages from all its neighbors are then aggregated as $m_{i} = \\oplus_{{j \\in \\mathcal{N}_i}} \\left( m_{ij} \\right)$, where $\\oplus$ is a permutation-invariant function (we will use summation).\n",
        "- **Step (3): Update.** Finally, the network updates the node feature vector $h_i^{\\ell+1} = \\phi \\left( h_i^{\\ell}, m_i \\right)$, by concatenating the aggregated message $m_i$ and the previous node feature vector $h_i^{\\ell}$, and passing them through an MLP $\\phi: \\mathbb{R}^{2d} → \\mathbb{R}^{d}$.\n",
        "\n",
        "**Note:** we do not have any global attribute here and we do not update edge features!\n",
        "\n",
        "### Global Pooling and Prediction Head\n",
        "After $L$ layers of message passing, we obtain the final node features $h_i^{\\ell=L}$, which we need to pool over to get a graph embedding and the final prediction. It will be global average pooling over all node features:\n",
        "$$\n",
        "h_G = \\frac{1}{|\\mathcal{V}|} \\sum_{i \\in \\mathcal{V}} h_i^{\\ell=L}.\n",
        "$$\n",
        "\n",
        "This graph embedding $h_G$ is passed through a linear prediction head $W_{pred} \\in \\mathbb{R}^{d} \\rightarrow \\mathbb{R}^1$ to obtain the overall prediction $\\hat y \\in \\mathbb{R}^1$:\n",
        "$$\n",
        "\\hat y = W_{pred} \\left( h_G \\right).\n",
        "$$\n",
        "\n",
        "### Loss Function\n",
        "Our MPNN graph property prediction model can be trained end-to-end via minimizing the standard mean-squared error loss for regression:\n",
        "$$\n",
        "\\mathcal{L}_{MSE} = \\lVert y - \\hat y \\rVert^2_2.\n",
        "$$\n",
        "\n",
        "### Implementation via `MessagePassing` class of PyG\n",
        "\n",
        "Let's implement this MPNN layer together"
      ],
      "metadata": {
        "id": "QWHrIglSj_VL"
      }
    },
    {
      "cell_type": "code",
      "source": [
        "class MPNNLayer(MessagePassing):\n",
        "    def __init__(self, emb_dim=64, edge_dim=4, aggr='add'):\n",
        "        \"\"\"Message Passing Neural Network Layer\n",
        "\n",
        "        Args:\n",
        "            emb_dim: (int) - hidden dimension `d`\n",
        "            edge_dim: (int) - edge feature dimension `d_e`\n",
        "            aggr: (str) - aggregation function (sum/mean/sum)\n",
        "        \"\"\"\n",
        "        pass\n",
        "        # +++++ WRITE TOGETHER +++++\n",
        "\n",
        "    def forward(self, h, edge_index, edge_attr):\n",
        "        \"\"\"\n",
        "        The forward pass updates node features `h` via one round of message passing.\n",
        "        The MessagePassing parent class handles most of the logic for the implementation.\n",
        "        To build custom GNNs, we only need to define our own `message()`,\n",
        "        `aggregate()`, and `update()` functions (defined subsequently).\n",
        "\n",
        "        Args:\n",
        "            h: (n, d) - initial node features\n",
        "            edge_index: (e, 2) - pairs of edges (i, j)\n",
        "            edge_attr: (e, d_e) - edge features\n",
        "\n",
        "        Returns:\n",
        "            out: (n, d) - updated node features\n",
        "        \"\"\"\n",
        "        pass\n",
        "        # +++++ WRITE TOGETHER +++++\n",
        "\n",
        "    def message(self, h_i, h_j, edge_attr):\n",
        "        \"\"\"Step (1) Message\n",
        "\n",
        "        The `message()` function constructs messages from source nodes j\n",
        "        to destination nodes i for each edge (i, j) in `edge_index`.\n",
        "\n",
        "        Tensors passed to method `propagate` can be mapped to the respective nodes `i` and `j`\n",
        "        by appending `_i` or `_j` to the variable name, .e.g. pos_i and pos_j.\n",
        "\n",
        "        The `message()` function constructs messages for each edge in the graph.\n",
        "        The indexing of the original node features `h` (or other node variables) is handled under\n",
        "        the hood by PyG.\n",
        "\n",
        "        Args:\n",
        "            h_i: (e, d) - destination node features\n",
        "            h_j: (e, d) - source node features\n",
        "            edge_attr: (e, d_e) - edge features\n",
        "\n",
        "        Returns:\n",
        "            msg: (e, d) - messages `m_ij` passed through MLP `\\psi`\n",
        "        \"\"\"\n",
        "        pass\n",
        "        # +++++ WRITE TOGETHER +++++\n",
        "\n",
        "\n",
        "    def aggregate(self, inputs, index):\n",
        "        \"\"\"Step (2) Aggregate\n",
        "\n",
        "        The `aggregate` function aggregates the messages from neighboring nodes,\n",
        "        according to the chosen aggregation function.\n",
        "\n",
        "        Args:\n",
        "            inputs: (e, d) - messages `m_ij` from destination to source nodes\n",
        "            index: (e, 1) - list of source nodes for each edge/message in `input`\n",
        "\n",
        "        Returns:\n",
        "            aggr_out: (n, d) - aggregated messages `m_i`\n",
        "        \"\"\"\n",
        "        return scatter(inputs, index, dim=self.node_dim, reduce=self.aggr)\n",
        "\n",
        "    def update(self, aggr_out, h):\n",
        "        \"\"\"\n",
        "        Step (3) Update\n",
        "\n",
        "        The `update()` function computes the final node features by combining the\n",
        "        aggregated messages with the initial node features.\n",
        "\n",
        "        `update()` takes the first argument `aggr_out`, the result of `aggregate()`,\n",
        "        as well as any optional arguments that were initially passed to\n",
        "        `propagate()`. E.g. in this case, we additionally pass `h`.\n",
        "\n",
        "        Args:\n",
        "            aggr_out: (n, d) - aggregated messages `m_i`\n",
        "            h: (n, d) - initial node features\n",
        "\n",
        "        Returns:\n",
        "            upd_out: (n, d) - updated node features passed through MLP `\\phi`\n",
        "        \"\"\"\n",
        "        pass\n",
        "        # +++++ WRITE TOGETHER +++++\n",
        "\n",
        "    def __repr__(self) -> str:\n",
        "        return (f'{self.__class__.__name__}(emb_dim={self.emb_dim}, aggr={self.aggr})')"
      ],
      "metadata": {
        "id": "KRqfenOkiTNM"
      },
      "execution_count": null,
      "outputs": []
    },
    {
      "cell_type": "markdown",
      "source": [
        "Great! We have defined a **Message Passing layer** following the equation we had introduced previously. Let us use this layer to code up the full **MPNN graph property prediction model**. This model will take as input molecular graphs, process them via multiple MPNN layers, and predict a single property for each of them."
      ],
      "metadata": {
        "id": "r9vxl8_6pzYD"
      }
    },
    {
      "cell_type": "code",
      "source": [
        "class MPNNModel(torch.nn.Module):\n",
        "    def __init__(self, num_layers=4, emb_dim=64, in_dim=11, edge_dim=4, out_dim=1):\n",
        "        \"\"\"Message Passing Neural Network model for graph property prediction\n",
        "\n",
        "        This model uses both node features and coordinates as inputs.\n",
        "\n",
        "        Args:\n",
        "            num_layers: (int) - number of message passing layers `L`\n",
        "            emb_dim: (int) - hidden dimension `d`\n",
        "            in_dim: (int) - initial node feature dimension `d_n`\n",
        "            edge_dim: (int) - edge feature dimension `d_e`\n",
        "            out_dim: (int) - output dimension (fixed to 1)\n",
        "        \"\"\"\n",
        "        pass\n",
        "        # +++++ WRITE TOGETHER +++++\n",
        "\n",
        "    def forward(self, data):\n",
        "        \"\"\"\n",
        "        Args:\n",
        "            data: (PyG.Data) - batch of PyG graphs\n",
        "\n",
        "        Returns:\n",
        "            out: (batch_size, out_dim) - prediction for each graph\n",
        "        \"\"\"\n",
        "        pass\n",
        "        # +++++ WRITE TOGETHER +++++"
      ],
      "metadata": {
        "id": "R29ssVG267bg"
      },
      "execution_count": null,
      "outputs": []
    },
    {
      "cell_type": "markdown",
      "source": [
        "We are done defining our MPNN model for graph property prediction.\n",
        "\n",
        "However, let us write some sanity checks for a **fundamental property** of the model and the layer.\n",
        "\n",
        "## Unit tests for Permutation Invariance and Equivariance\n",
        "\n",
        "We have repeatedly talked about certain fundamental properties for machine learning on graphs:\n",
        "\n",
        "- A **GNN <ins>layer**</ins> is **equivariant** to permutations of the set of nodes in the graph; i.e. as we permute the nodes, the node features produced by the GNN must permute accordingly.\n",
        "- A **GNN <ins>model**</ins> for graph-level property prediction is **invariant** to the permutations of the set of nodes in the graph; i.e. as we permute the nodes, the graph-level propery remains unchanged.\n",
        "\n",
        "In general, there is **no canonical way** of assigning an ordering of the nodes, unlike textual or image data. However, graphs need to be stored and processed on computers in order to perform machine learning on them. Thus, we need to ensure that our models are able to principaly handle this **lack of canonical ordering** or **permutation** of graph nodes.\n",
        "\n",
        "### Formalism\n",
        "\n",
        "The notions of permutation invariance and equivariance can be formalised via matrix notation to make it easier to understand.\n",
        "\n",
        "- Let $\\mathbf{H} \\in \\mathbb{R}^{n \\times d}$ be a matrix of node features for a given molecular graph, where $n$ is the number of nodes/atoms and each row $h_i$ is the $d$-dimensional feature for node $i$.\n",
        "- Let $\\mathbf{A} \\in \\mathbb{R}^{n \\times n}$ be the adjacency matrix where each entry denotes $a_{ij}$ the presence or absence of an edge between nodes $i$ and $j$.\n",
        "- Let $\\mathbf{F}(\\mathbf{H}, \\mathbf{A}): \\mathbb{R}^{n \\times d} \\times \\mathbb{R}^{n \\times n} \\rightarrow \\mathbb{R}^{n \\times d}$ be a **GNN <ins>layer**</ins> that takes as input the node features and adjacency matrix, and returns the **updated node features**.\n",
        "- Let $f(\\mathbf{H}, \\mathbf{A}): \\mathbb{R}^{n \\times d} \\times \\mathbb{R}^{n \\times n} \\rightarrow \\mathbb{R}$ be a **GNN <ins>model**</ins> that takes as input the node features and adjacency matrix, and returns the **predicted graph-level property**.\n",
        "- Let $\\mathbf{P} \\in \\mathbb{R}^{n \\times n}$ be a **[permutation matrix](https://en.wikipedia.org/wiki/Permutation_matrix)** which has exactly one 1 in every row and column, and 0s elsewhere. Left-multipying $\\mathbf{P}$ with a matrix changes the ordering of the rows of the matrix.\n",
        "\n",
        "### Permuation Equivariance\n",
        "\n",
        "The GNN <ins>layer</ins> $\\mathbf{F}$ is **permuation equivariant** as follows:\n",
        "$$\n",
        "\\mathbf{F}(\\mathbf{PH}, \\mathbf{PAP^T}) = \\mathbf{P} \\ \\mathbf{F}(\\mathbf{H}, \\mathbf{A}).\n",
        "$$\n",
        "\n",
        "Another way to formulate the above could be:\n",
        "1. Consider the updated node features $\\mathbf{H'} = \\mathbf{F}(\\mathbf{H}, \\mathbf{A})$.\n",
        "2. Applying any permutation $\\mathbf{P}$ to the input of the GNN layer $\\mathbf{F}$ must produce the same result as applying the same permutation on $\\mathbf{H'}$:\n",
        "$$\n",
        "\\mathbf{F}(\\mathbf{PH}, \\mathbf{PAP^T}) = \\mathbf{P} \\ \\mathbf{H'}\n",
        "$$\n",
        "\n",
        "### Permuation Invariance\n",
        "\n",
        "The GNN <ins>model</ins> $f$ for graph-level prediction is **permutation invariant** as follows:\n",
        "$$\n",
        "f(\\mathbf{PH}, \\mathbf{PAP^T}) = f(\\mathbf{H}, \\mathbf{A}).\n",
        "$$\n",
        "\n",
        "Another way to formulate the above could be:\n",
        "1. Consider the predicted molecular property $\\mathbf{\\hat y} = f(\\mathbf{H}, \\mathbf{A})$.\n",
        "2. Applying any permutation $\\mathbf{P}$ to the input of the GNN model $f$ should produce the same result as not applying it:\n",
        "$$\n",
        "f(\\mathbf{PH}, \\mathbf{PAP^T}) = \\mathbf{\\hat y}.\n",
        "$$\n",
        "\n",
        "With that formalism out of the way, let us write some unit tests to confirm that our `MPNNModel` and `MPNNLayer` are indeed permutation invariant and equivariant, respectively."
      ],
      "metadata": {
        "id": "51xlHkQ3qEpi"
      }
    },
    {
      "cell_type": "code",
      "source": [
        "seed(12345)\n",
        "def permute_graph(data, perm):\n",
        "    \"\"\"Helper function for permuting PyG Data object attributes consistently.\n",
        "\n",
        "    Args:\n",
        "        data: PyG data object\n",
        "        perm: A tensor of indices corresponding to some permutation\n",
        "    \"\"\"\n",
        "    pass\n",
        "    # +++++ WRITE TOGETHER +++++\n",
        "\n",
        "\n",
        "def permutation_invariance_unit_test(module, dataloader):\n",
        "    \"\"\"Unit test for checking whether a module (GNN model) is\n",
        "    permutation invariant.\n",
        "    \"\"\"\n",
        "    pass\n",
        "    # +++++ WRITE TOGETHER +++++\n",
        "\n",
        "\n",
        "def permutation_equivariance_unit_test(module, dataloader):\n",
        "    \"\"\"Unit test for checking whether a module (GNN layer) is\n",
        "    permutation equivariant.\n",
        "    \"\"\"\n",
        "    pass\n",
        "    # +++++ WRITE TOGETHER +++++\n"
      ],
      "metadata": {
        "id": "PdDtBsx4qCtT"
      },
      "execution_count": null,
      "outputs": []
    },
    {
      "cell_type": "markdown",
      "source": [
        "Now that we have defined the unit tests for permutation invariance (for the full MPNN model) and permutation equivariance (for the MPNN layer), let us perform the sanity check:"
      ],
      "metadata": {
        "id": "kbeIO16Qvjgm"
      }
    },
    {
      "cell_type": "code",
      "source": [
        "# Instantiate temporary model, layer, and dataloader for unit testing\n",
        "layer = MPNNLayer(emb_dim=11, edge_dim=4)\n",
        "mpnn = MPNNModel(num_layers=4, emb_dim=64, in_dim=11, edge_dim=4, out_dim=1)\n",
        "dataloader = DataLoader(train_dataset, batch_size=1, shuffle=True)\n",
        "\n",
        "# Permutation invariance unit test for MPNN model\n",
        "print(f\"Is {type(mpnn).__name__} permutation invariant? --> {permutation_invariance_unit_test(mpnn, dataloader)}!\")\n",
        "\n",
        "# Permutation equivariance unit for MPNN layer\n",
        "print(f\"Is {type(layer).__name__} permutation equivariant? --> {permutation_equivariance_unit_test(layer, dataloader)}!\")"
      ],
      "metadata": {
        "id": "47OkveN8XyDV"
      },
      "execution_count": null,
      "outputs": []
    },
    {
      "cell_type": "markdown",
      "source": [
        "## Training and Evaluating Models\n",
        "\n",
        "Great! We are finally ready to train and evaluate our model on QM9."
      ],
      "metadata": {
        "id": "t9H0MLZXvyAs"
      }
    },
    {
      "cell_type": "code",
      "source": [
        "def train(model, train_loader, optimizer, device):\n",
        "    model.train()\n",
        "    loss_all = 0\n",
        "\n",
        "    for data in train_loader:\n",
        "        data.to(device)\n",
        "        optimizer.zero_grad()\n",
        "        y_pred = model(data)\n",
        "        loss = torch.nn.functional.mse_loss(y_pred, data.y)\n",
        "        loss.backward()\n",
        "        # Compute loss per graph, since the original loss is averaged over the batch\n",
        "        loss_all += loss.item() * data.num_graphs\n",
        "        optimizer.step()\n",
        "    return loss_all / len(train_loader.dataset)\n",
        "\n",
        "\n",
        "def eval(model, loader, device):\n",
        "    model.eval()\n",
        "    error = 0\n",
        "\n",
        "    for data in loader:\n",
        "        data.to(device)\n",
        "        with torch.no_grad():\n",
        "            y_pred = model(data)\n",
        "            # Mean Absolute Error using std (computed when preparing data)\n",
        "            # This is done to output MAE in the original data scale (y_orig = y * std)\n",
        "            error += (y_pred * std - data.y * std).abs().sum().item()\n",
        "    return error / len(loader.dataset)\n",
        "\n",
        "\n",
        "def run_experiment(model, model_name, train_loader, val_loader, test_loader, n_epochs=100):\n",
        "\n",
        "    print(f\"Running experiment for {model_name}, training on {len(train_loader.dataset)} samples for {n_epochs} epochs.\")\n",
        "\n",
        "    device = torch.device('cuda' if torch.cuda.is_available() else 'cpu')\n",
        "\n",
        "    print(\"\\nModel architecture:\")\n",
        "    print(model)\n",
        "    total_param = 0\n",
        "    for param in model.parameters():\n",
        "        total_param += np.prod(list(param.data.size()))\n",
        "    print(f'Total parameters: {total_param}')\n",
        "    model = model.to(device)\n",
        "\n",
        "    # Adam optimizer with LR 1e-3\n",
        "    optimizer = torch.optim.Adam(model.parameters(), lr=0.001)\n",
        "\n",
        "    # LR scheduler which decays LR when validation metric doesn't improve\n",
        "    scheduler = torch.optim.lr_scheduler.ReduceLROnPlateau(\n",
        "        optimizer, mode='min', factor=0.9, patience=5, min_lr=0.00001)\n",
        "\n",
        "    print(\"\\nStart training:\")\n",
        "    best_val_error = None\n",
        "    perf_per_epoch = [] # Track Test/Val MAE vs. epoch (for plotting)\n",
        "    t = time.time()\n",
        "    for epoch in range(1, n_epochs+1):\n",
        "        # Call LR scheduler at start of each epoch\n",
        "        lr = scheduler.optimizer.param_groups[0]['lr']\n",
        "\n",
        "        # Train model for one epoch, return avg. training loss\n",
        "        loss = train(model, train_loader, optimizer, device)\n",
        "\n",
        "        # Evaluate model on validation set\n",
        "        val_error = eval(model, val_loader, device)\n",
        "\n",
        "        if best_val_error is None or val_error <= best_val_error:\n",
        "            # Evaluate model on test set if validation metric improves\n",
        "            test_error = eval(model, test_loader, device)\n",
        "            best_val_error = val_error\n",
        "\n",
        "        if epoch % 10 == 0:\n",
        "            # Print stats every 10 epochs\n",
        "            print(f'Epoch: {epoch:03d}, LR: {lr:5f}, Loss: {loss:.7f}, '\n",
        "                  f'Val MAE: {val_error:.7f}, Test MAE: {test_error:.7f}')\n",
        "\n",
        "        scheduler.step(val_error)\n",
        "        perf_per_epoch.append((test_error, val_error, epoch, model_name))\n",
        "\n",
        "    t = time.time() - t\n",
        "    train_time = t/60\n",
        "    print(\n",
        "        f\"\\nDone! Training took {train_time:.2f} mins. Best validation MAE: {best_val_error:.7f}, \"\n",
        "        f\"corresponding test MAE: {test_error:.7f}.\"\n",
        "    )\n",
        "\n",
        "    return best_val_error, test_error, train_time, perf_per_epoch"
      ],
      "metadata": {
        "id": "yAoNDsrsvr3l"
      },
      "execution_count": null,
      "outputs": []
    },
    {
      "cell_type": "code",
      "source": [
        "seed(12345)\n",
        "mpnn = MPNNModel(num_layers=4, emb_dim=64, in_dim=11, edge_dim=4, out_dim=1)\n",
        "model_name = type(mpnn).__name__\n",
        "best_val_error, test_error, train_time, perf_per_epoch = run_experiment(\n",
        "    mpnn,\n",
        "    model_name,\n",
        "    train_loader,\n",
        "    val_loader,\n",
        "    test_loader,\n",
        "    n_epochs=100\n",
        ")\n",
        "\n",
        "RESULTS[model_name] = (best_val_error, test_error, train_time)\n",
        "df_temp = pd.DataFrame(perf_per_epoch, columns=[\"Test MAE\", \"Val MAE\", \"Epoch\", \"Model\"])\n",
        "DF_RESULTS = pd.concat([DF_RESULTS, df_temp], ignore_index=True)"
      ],
      "metadata": {
        "id": "DXw2uEuzZuRr"
      },
      "execution_count": null,
      "outputs": []
    },
    {
      "cell_type": "markdown",
      "source": [
        "## Exercise 1\n",
        "\n",
        "Remember that we were given 3D coordinates with each atom in our molecular graph?\n",
        "\n",
        "Let us visualize a molecule from QM9 in all of its 3D glory. You can move this molecule with your mouse cursor!\n"
      ],
      "metadata": {
        "id": "dsfBgWFj7C2W"
      }
    },
    {
      "cell_type": "code",
      "source": [
        "MolTo3DView(smi2conf(Chem.MolToSmiles(to_rdkit(train_dataset[48]))))"
      ],
      "metadata": {
        "id": "YF5CIIDRZw5Y"
      },
      "execution_count": null,
      "outputs": []
    },
    {
      "cell_type": "markdown",
      "source": [
        "Our initial *vanilla* MPNN `MPNNModel` ignores the atom coordiantes and only uses the node features to perform message passing. This means that the model is **not** leveraging useful 3D structural information to predict the target property.\n",
        "\n",
        "- Modify the original `MPNNModel` to incorporate **atom coordinates** into the **node features**.\n",
        " - Fill in the corresponding places in the class `CoordMPNNModel` provided below\n",
        " - **hint:** As a reminder, the 3D atom positions are stored in `data.pos`.\n",
        " - You can provide a very simple and straightforward solution, e.g. concatenation or summation.\n",
        "- Instantiate an instance of a newly created `CoordMPNNModel` class and test it for permutation invariance, finishing the code provided below.\n",
        "- Train the model by filling in the required lines of code.\n",
        "\n",
        "The code to complete is given in the next 2 colab cells."
      ],
      "metadata": {
        "id": "-pxMT70a-G0p"
      }
    },
    {
      "cell_type": "code",
      "source": [
        "class CoordMPNNModel(MPNNModel):\n",
        "    def __init__(self, num_layers=4, emb_dim=64, in_dim=11, edge_dim=4, out_dim=1):\n",
        "        \"\"\"Message Passing Neural Network model for graph property prediction\n",
        "\n",
        "        This model uses both node features and coordinates as inputs.\n",
        "\n",
        "        Args:\n",
        "            num_layers: (int) - number of message passing layers `L`\n",
        "            emb_dim: (int) - hidden dimension `d`\n",
        "            in_dim: (int) - initial node feature dimension `d_n`\n",
        "            edge_dim: (int) - edge feature dimension `d_e`\n",
        "            out_dim: (int) - output dimension (fixed to 1)\n",
        "        \"\"\"\n",
        "        super().__init__()\n",
        "\n",
        "        # ============ YOUR CODE HERE ==============\n",
        "        # Adapt the input linear layer or add new input layers\n",
        "        # to account for the atom positions.\n",
        "        #\n",
        "        # Linear projection for initial node features and coordinates\n",
        "        # dim: ??? -> d\n",
        "        # self.lin_in = ...\n",
        "        # ==========================================\n",
        "\n",
        "        # Stack of MPNN layers\n",
        "        self.convs = torch.nn.ModuleList()\n",
        "        for layer in range(num_layers):\n",
        "            self.convs.append(MPNNLayer(emb_dim, edge_dim, aggr='add'))\n",
        "\n",
        "        # Global pooling/readout function `R` (mean pooling)\n",
        "        # PyG handles the underlying logic via `global_mean_pool()`\n",
        "        self.pool = global_mean_pool\n",
        "\n",
        "        # Linear prediction head\n",
        "        # dim: d -> out_dim\n",
        "        self.lin_pred = torch.nn.Linear(emb_dim, out_dim)\n",
        "\n",
        "    def forward(self, data):\n",
        "        \"\"\"\n",
        "        Args:\n",
        "            data: (PyG.Data) - batch of PyG graphs\n",
        "\n",
        "        Returns:\n",
        "            out: (batch_size, out_dim) - prediction for each graph\n",
        "        \"\"\"\n",
        "        # ============ YOUR CODE HERE ==============\n",
        "        # Incorporate the atom positions along with the features.\n",
        "        #\n",
        "        # h = ...\n",
        "        # ==========================================\n",
        "\n",
        "        for conv in self.convs:\n",
        "            h = h + conv(h, data.edge_index, data.edge_attr)\n",
        "        h_graph = self.pool(h, data.batch)\n",
        "        out = self.lin_pred(h_graph)\n",
        "\n",
        "        return out.view(-1)"
      ],
      "metadata": {
        "id": "V3_FsxsP-7iA"
      },
      "execution_count": null,
      "outputs": []
    },
    {
      "cell_type": "code",
      "source": [
        "# ============ YOUR CODE HERE ==============\n",
        "# Instantiate a model and use the dataloader below for unit testing.\n",
        "# Remember that we are now unit testing the CoordMPNNModel, which is different\n",
        "# than the previous model but still composed of the MPNNLayer.\n",
        "#\n",
        "# coord_mpnn = ...\n",
        "# ==========================================\n",
        "dataloader = DataLoader(train_dataset, batch_size=1, shuffle=True)\n",
        "\n",
        "# Permutation invariance unit test for MPNN model\n",
        "print(f\"Is {type(coord_mpnn).__name__} permutation invariant? --> {permutation_invariance_unit_test(coord_mpnn, dataloader)}!\")"
      ],
      "metadata": {
        "id": "IldhAczUDCwn"
      },
      "execution_count": null,
      "outputs": []
    },
    {
      "cell_type": "code",
      "source": [
        "# Train youe CoordMPNNModel\n",
        "seed(12345)\n",
        "model_name = type(coord_mpnn).__name__\n",
        "best_val_error, test_error, train_time, perf_per_epoch = run_experiment(\n",
        "    coord_mpnn,\n",
        "    model_name,\n",
        "    train_loader,\n",
        "    val_loader,\n",
        "    test_loader,\n",
        "    n_epochs=100\n",
        ")\n",
        "\n",
        "RESULTS[model_name] = (best_val_error, test_error, train_time)\n",
        "df_temp = pd.DataFrame(perf_per_epoch, columns=[\"Test MAE\", \"Val MAE\", \"Epoch\", \"Model\"])\n",
        "DF_RESULTS = pd.concat([DF_RESULTS, df_temp], ignore_index=True)"
      ],
      "metadata": {
        "id": "aV_YXK41PNE5"
      },
      "execution_count": null,
      "outputs": []
    },
    {
      "cell_type": "markdown",
      "source": [
        "Let's compare MPNN and CoordMPNN models' performances."
      ],
      "metadata": {
        "id": "7BKKs6QZTtTv"
      }
    },
    {
      "cell_type": "code",
      "source": [
        "for model_name, (val_error, test_error, train_time) in RESULTS.items():\n",
        "    print(\n",
        "        f\"\\n\\n{model_name}: Best Val MAE: {val_error:.7f}, Test MAE: {test_error:.7f},\"\n",
        "        f\" Training Time: {train_time:.2f} mins.\"\n",
        "    )\n"
      ],
      "metadata": {
        "id": "gXzo8W2LZzRG"
      },
      "execution_count": null,
      "outputs": []
    },
    {
      "cell_type": "markdown",
      "source": [
        "# Invariance to 3D Symmetries: Rotation and Translation\n",
        "\n",
        "We saw that the performance of `CoordMPNNModel` is unexpectedly mediocre compared to `MPNNModel` despite using both node features and coordinates. In order to determine why, we must understand the concept of **3D symmetries**.\n",
        "\n",
        "### Geometric Invariance\n",
        "\n",
        "The 3D coordinates of the atoms are **not  inherently fixed** or **permanent**. Instead, they were **experimentally determined** relative to a **frame of reference**.\n",
        "\n",
        "To fully grasp these statements, here is GIF of a drug-like molecules moving around in 3D space...\n",
        "\n",
        "<-- ![](https://drive.google.com/uc?id=12MVvs-d6ojH_KNVp22U8cgOxz_O8jPCE) -->\n",
        "\n",
        "The atoms' 3D coordinates are constantly **rotating** and **translating**. However, the **properties** of this molecule will always remain the same no matter how we rotate or translate it. In other words, the molecule's properties are **invariant** to 3D rotations and translations.\n",
        "\n",
        "We will study how to design GNN layers and models that respect these regularities.\n",
        "\n",
        "### Formalism\n",
        "\n",
        "Let us try to formalise the notion of invariance to 3D rotations and translations in GNNs via matrix notation.\n",
        "\n",
        "- Let $\\mathbf{H} \\in \\mathbb{R}^{n \\times d}$ be a matrix of node features for a given molecular graph, where $n$ is the number of nodes/atoms and each row $h_i$ is the    $d$-dimensional feature for node $i$.\n",
        "- Let $\\mathbf{X} \\in \\mathbb{R}^{n \\times 3}$ be a matrix of node coordinates for a given molecular graph, where $n$ is the number of nodes/atoms and each row $x_i$ is the 3D coordinate for node $i$.\n",
        "- Let $\\mathbf{A} \\in \\mathbb{R}^{n \\times n}$ be the adjacency matrix where each entry denotes $a_{ij}$ the presence or absence of an edge between nodes $i$ and $j$.\n",
        "- Let $\\mathbf{F}(\\mathbf{H}, \\mathbf{X}, \\mathbf{A}): \\mathbb{R}^{n \\times d} \\times \\mathbb{R}^{n \\times 3} \\times \\mathbb{R}^{n \\times n} \\rightarrow \\mathbb{R}^{n \\times d}$ be a **GNN <ins>layer**</ins> that takes as input the node features, node coordinates, and adjacency matrix, and returns the **updated node features**.\n",
        "- Let $f(\\mathbf{H}, \\mathbf{X}, \\mathbf{A}): \\mathbb{R}^{n \\times d} \\times \\mathbb{R}^{n \\times 3} \\times \\mathbb{R}^{n \\times n} \\rightarrow \\mathbb{R}$ be a **GNN <ins>model**</ins> that takes as input the node features, node coordinates, and adjacency matrix, and returns the **predicted graph-level property**.\n",
        "- Let $\\mathbf{Q}$ and $\\mathbf{t}$ be a rotation matrix and a vector by which we want to translate our coordinates.\n",
        "\n",
        "(Notice the updated notation for the GNN layer $\\mathbf{F}$ and GNN model $\\mathbf{f}$ to include the matrix of node coordinates $\\mathbf{X}$ as an additional input.)\n",
        "\n",
        "### Rotation-translation invariance\n",
        "\n",
        "The GNN <ins>model</ins> $f$ is **rotation and translation invariant** as follows:\n",
        "$$\n",
        "f(\\mathbf{H}, \\mathbf{Q} (\\mathbf{X} + \\mathbf{t}), \\mathbf{A}) = f(\\mathbf{H}, \\mathbf{X}, \\mathbf{A}).\n",
        "$$\n"
      ],
      "metadata": {
        "id": "inpDVfvOlWzr"
      }
    },
    {
      "cell_type": "markdown",
      "source": [
        "## Exercise 2\n",
        "\n",
        "- Write the unit tests to check your `CoordMPNNModel` for 3D rotation and translation invariance.\n",
        "\n",
        "  **hint**: Show that the output of the model varies when:\n",
        "  1. All the atom coordinates in `data.pos` are multiplied by any random rotation matrix $Q \\in \\mathbb{R}^{3 \\times 3}$. (A helper function for creating a rotation matrix is given below.)\n",
        "  2. All the atom coordinates in `data.pos` are displaced by any random translation vector $\\mathbf{t} \\in \\mathbb{R}^3$.\n",
        "\n",
        "- Run the unit tests, executing the code below:\n",
        "\n",
        "  ```python\n",
        "    model_unit_test = CoordMPNNModel(num_layers=4, emb_dim=64, in_dim=11, edge_dim=4, out_dim=1)\n",
        "    dataloader = DataLoader(train_dataset, batch_size=1, shuffle=True)\n",
        "\n",
        "    print(\n",
        "        f\"Is {type(model_unit_test).__name__} rotation and translation invariant? --> \"\n",
        "        f\"{rot_trans_invariance_unit_test(model, dataloader)}!\"\n",
        "    )\n",
        "   ```\n",
        "\n",
        "- Think why invariance to 3D rotations and translation is a desirable property for GNNs predicting molecular properties."
      ],
      "metadata": {
        "id": "_oKjuBEU9V5q"
      }
    },
    {
      "cell_type": "code",
      "source": [
        "def random_rotation_matrix(dim=3):\n",
        "  \"\"\"Helper function to build a random orthogonal matrix of shape (dim, dim)\n",
        "  \"\"\"\n",
        "  Q = torch.tensor(ortho_group.rvs(dim=dim)).float()\n",
        "  return Q\n",
        "\n",
        "def rot_trans_invariance_unit_test(module, dataloader):\n",
        "    \"\"\"Unit test for checking whether a module (GNN model/layer) is\n",
        "    rotation and translation invariant.\n",
        "    \"\"\"\n",
        "    it = iter(dataloader)\n",
        "    data = next(it)\n",
        "\n",
        "    # Forward pass on original example\n",
        "    # Note: A conditional forward pass allows to run the same unit test for both the GNN model as well as the layer.\n",
        "    if isinstance(module, MPNNModel):\n",
        "        out_1 = module(data)\n",
        "    else: # if ininstance(module, MessagePassing):\n",
        "        out_1 = module(data.x, data.pos, data.edge_index, data.edge_attr)\n",
        "\n",
        "    # Get a random rotation matrix\n",
        "    Q = random_rotation_matrix(dim=3)\n",
        "    # Get a random translation\n",
        "    t = torch.rand(3)\n",
        "\n",
        "    # ============ YOUR CODE HERE ==============\n",
        "    # Perform random rotation + translation on data.\n",
        "    #\n",
        "    # data.pos = ...\n",
        "    # ==========================================\n",
        "\n",
        "    # Forward pass on rotated + translated example\n",
        "    if isinstance(module, MPNNModel):\n",
        "        out_2 = module(data)\n",
        "    else: # if ininstance(module, MessagePassing):\n",
        "        out_2 = module(data.x, data.pos, data.edge_index, data.edge_attr)\n",
        "\n",
        "    # ============ YOUR CODE HERE ==============\n",
        "    # Check whether output varies after applying transformations.\n",
        "    #\n",
        "    # return torch.allclose(..., atol=1e-04)\n",
        "    # ==========================================\n",
        "    # Check whether output varies after applying transformations"
      ],
      "metadata": {
        "id": "rxqHWVzQFA-X"
      },
      "execution_count": null,
      "outputs": []
    },
    {
      "cell_type": "code",
      "source": [
        "model_unit_test = CoordMPNNModel(num_layers=4, emb_dim=64, in_dim=11, edge_dim=4, out_dim=1)\n",
        "dataloader = DataLoader(train_dataset, batch_size=1, shuffle=True)\n",
        "\n",
        "print(\n",
        "    f\"Is {type(model_unit_test).__name__} rotation and translation invariant? --> \"\n",
        "    f\"{rot_trans_invariance_unit_test(model_unit_test, dataloader)}!\"\n",
        ")"
      ],
      "metadata": {
        "id": "Qmtb-kwbZ12I"
      },
      "execution_count": null,
      "outputs": []
    },
    {
      "cell_type": "markdown",
      "source": [
        "The performance of `CoordMPNNModel` is equal or worse than the vanilla `MPNNModel` because:\n",
        "\n",
        ">\"The `CoordMPNNModel` is not using 3D structural information in a principled manner\"\n",
        "\n",
        "Let us try fixing this!"
      ],
      "metadata": {
        "id": "1oCnbS3hD1A_"
      }
    },
    {
      "cell_type": "markdown",
      "source": [
        "# Message Passing with Invariance to 3D Rotations and Translations\n",
        "\n",
        "We will dive into how we can design GNN models which operate on graphs with 3D coordinates in a more theoretically sound way."
      ],
      "metadata": {
        "id": "Jba2W-89HgdT"
      }
    },
    {
      "cell_type": "markdown",
      "source": [
        "##  Rotation <ins>invariant</ins> MPNNs\n",
        "\n",
        "- The initial **'vanilla' MPNN** `MPNNModel` and `MPNNLayer` ignored the atom coordiantes and only uses the node features to perform message passing. This means that the model was **not** leveraging **3D structural information** to predict the target property.\n",
        "\n",
        "- The second **'naive' coordinate MPNN** `CoordMPNNModel` used the node features along with the atom coordinates in an unprincipled manner, resulting in the model not being invariant to 3D rotations and translations of the coordinates\n",
        "\n",
        "Let's define a new `InvariantMPNNLayer` which utilise both **atom coordinates** and **node features**.\n",
        "\n",
        "## Exercise 3\n",
        "\n",
        "The new `InvariantMPNNLayer` is almost fully written.\n",
        "\n",
        "- Your task is to complete the layer and make it invariant to 3D rotations, meaning that it must pass the rotation-translation invariance unit test.\n",
        " - **hint:** Unlike the previous `CoordMPNNModel`, you should use the coordinate information to constuct the messages as opposed to incorporating it into the node features. In particular, I'd like you to think about **how** to use the coordinates in a principled manner to constuct the messages. What is a quantity that we can compute using a pair of coordinates that will be invariant to rotating and translating it?\n",
        " - **hint:**  tensors passed to `propagate()` can be mapped to the respective nodes  and  by appending `_i` or `_j` to the variable name, e.g. `h_i` and `h_j` for the node features `h`. Note that one generally refers to `_i` as the central or destination nodes that aggregate information, and refer to `_j` as the neighboring or source nodes that pass the messages.\n",
        "- The invariant MPNN model is given below and it uses the `InvariantMPNNLayer`.\n",
        "    - Create an instance of the `InvariantMPNNModel` and run it through the rotation-translation invariance unit test, make sure the model passes it.\n",
        "    - Run the training with the new model, completing the code provided below.\n",
        "    \n",
        "The code to complete is given in the next 3 colab cells.\n"
      ],
      "metadata": {
        "id": "lWDdWlUYHq0w"
      }
    },
    {
      "cell_type": "code",
      "source": [
        "class InvariantMPNNLayer(MessagePassing):\n",
        "    def __init__(self, emb_dim=64, edge_dim=4, aggr='add'):\n",
        "        \"\"\"Message Passing Neural Network Layer\n",
        "\n",
        "        This layer is invariant to 3D rotations and translations.\n",
        "\n",
        "        Args:\n",
        "            emb_dim: (int) - hidden dimension `d`\n",
        "            edge_dim: (int) - edge feature dimension `d_e`\n",
        "            aggr: (str) - aggregation function `\\oplus` (sum/mean/max)\n",
        "        \"\"\"\n",
        "        # Set the aggregation function\n",
        "        super().__init__(aggr=aggr)\n",
        "\n",
        "        self.emb_dim = emb_dim\n",
        "        self.edge_dim = edge_dim\n",
        "\n",
        "        # ============ YOUR CODE HERE ==============\n",
        "        # MLP `\\psi` for computing messages `m_ij`\n",
        "        # dims: (???) -> d\n",
        "        #\n",
        "        # self.mlp_msg = MLP([...])\n",
        "        # ==========================================\n",
        "\n",
        "        # MLP `\\phi` for computing updated node features `h_i^{l+1}`\n",
        "        # dims: 2d -> d\n",
        "        self.mlp_upd = MLP([2 * emb_dim, emb_dim, emb_dim])\n",
        "\n",
        "\n",
        "    def forward(self, h, pos, edge_index, edge_attr):\n",
        "        \"\"\"\n",
        "        The forward pass updates node features `h` via one round of message passing.\n",
        "\n",
        "        Args:\n",
        "            h: (n, d) - initial node features\n",
        "            pos: (n, 3) - initial node coordinates\n",
        "            edge_index: (e, 2) - pairs of edges (i, j)\n",
        "            edge_attr: (e, d_e) - edge features\n",
        "\n",
        "        Returns:\n",
        "            out: (n, d) - updated node features\n",
        "        \"\"\"\n",
        "        # ============ YOUR CODE HERE ==============\n",
        "        # Notice that the `forward()` function has a new argument\n",
        "        # `pos` denoting the initial node coordinates. Your task is\n",
        "        # to update the `propagate()` function in order to pass `pos`\n",
        "        # to the `message()` function along with the other arguments.\n",
        "        #\n",
        "        # out = self.propagate(...)\n",
        "        # return out\n",
        "        # ==========================================\n",
        "\n",
        "\n",
        "    # ============ YOUR CODE HERE ==============\n",
        "    # Write a custom `message()` function that takes as arguments the\n",
        "    # source and destination node features, node coordinates, and `edge_attr`.\n",
        "    # Incorporate the coordinates `pos` into the message computation such\n",
        "    # that the messages are invariant to rotations and translations.\n",
        "    # This will ensure that the overall layer is also invariant.\n",
        "    #\n",
        "    # def message(self, ...):\n",
        "    # \"\"\"The `message()` function constructs messages from source nodes j\n",
        "    #    to destination nodes i for each edge (i, j) in `edge_index`.\n",
        "    #\n",
        "    #    Args:\n",
        "    #        ...\n",
        "    #\n",
        "    #    Returns:\n",
        "    #        ...\n",
        "    # \"\"\"\n",
        "    #   ...\n",
        "    #   msg = ...\n",
        "    #   return self.mlp_msg(msg)\n",
        "    # ==========================================\n",
        "\n",
        "    # Leave the aggregate and update functions as they are\n",
        "    def aggregate(self, inputs, index):\n",
        "        \"\"\"The `aggregate` function aggregates the messages from neighboring nodes,\n",
        "        according to the chosen aggregation function ('sum' by default).\n",
        "\n",
        "        Args:\n",
        "            inputs: (e, d) - messages `m_ij` from destination to source nodes\n",
        "            index: (e, 1) - list of source nodes for each edge/message in `input`\n",
        "\n",
        "        Returns:\n",
        "            aggr_out: (n, d) - aggregated messages `m_i`\n",
        "        \"\"\"\n",
        "        return scatter(inputs, index, dim=self.node_dim, reduce=self.aggr)\n",
        "\n",
        "    def update(self, aggr_out, h):\n",
        "        \"\"\"The `update()` function computes the final node features by combining the\n",
        "        aggregated messages with the initial node features.\n",
        "\n",
        "        Args:\n",
        "            aggr_out: (n, d) - aggregated messages `m_i`\n",
        "            h: (n, d) - initial node features\n",
        "\n",
        "        Returns:\n",
        "            upd_out: (n, d) - updated node features passed through MLP `\\phi`\n",
        "        \"\"\"\n",
        "        upd_out = torch.cat([h, aggr_out], dim=-1)\n",
        "        return self.mlp_upd(upd_out)\n",
        "\n",
        "    def __repr__(self) -> str:\n",
        "        return (f'{self.__class__.__name__}(emb_dim={self.emb_dim}, aggr={self.aggr})')"
      ],
      "metadata": {
        "id": "7W2b3kL0HpRZ"
      },
      "execution_count": null,
      "outputs": []
    },
    {
      "cell_type": "code",
      "source": [
        "class InvariantMPNNModel(MPNNModel):\n",
        "    def __init__(self, num_layers=4, emb_dim=64, in_dim=11, edge_dim=4, out_dim=1):\n",
        "        \"\"\"Message Passing Neural Network model for graph property prediction\n",
        "\n",
        "        This model uses both node features and coordinates as inputs, and\n",
        "        is invariant to 3D rotations and translations.\n",
        "\n",
        "        Args:\n",
        "            num_layers: (int) - number of message passing layers `L`\n",
        "            emb_dim: (int) - hidden dimension `d`\n",
        "            in_dim: (int) - initial node feature dimension `d_n`\n",
        "            edge_dim: (int) - edge feature dimension `d_e`\n",
        "            out_dim: (int) - output dimension (fixed to 1)\n",
        "        \"\"\"\n",
        "        super().__init__()\n",
        "\n",
        "        # Linear projection for initial node features\n",
        "        # dim: d_n -> d\n",
        "        self.lin_in = torch.nn.Linear(in_dim, emb_dim)\n",
        "\n",
        "        # Stack of invariant MPNN layers\n",
        "        self.convs = torch.nn.ModuleList()\n",
        "        for layer in range(num_layers):\n",
        "            # Note! An InvariantMPNNLayer class is used here. This is the main difference\n",
        "            self.convs.append(InvariantMPNNLayer(emb_dim, edge_dim, aggr='add'))\n",
        "\n",
        "        # Global pooling/readout function `R` (mean pooling)\n",
        "        # PyG handles the underlying logic via `global_mean_pool()`\n",
        "        self.pool = global_mean_pool\n",
        "\n",
        "        # Linear prediction head\n",
        "        # dim: d -> out_dim\n",
        "        self.lin_pred = torch.nn.Linear(emb_dim, out_dim)\n",
        "\n",
        "    def forward(self, data):\n",
        "        \"\"\"\n",
        "        Args:\n",
        "            data: (PyG.Data) - batch of PyG graphs\n",
        "\n",
        "        Returns:\n",
        "            out: (batch_size, out_dim) - prediction for each graph\n",
        "        \"\"\"\n",
        "        # Encode node features (n, in_dim) -> (n, d)\n",
        "        h = self.lin_in(data.x)\n",
        "\n",
        "        for conv in self.convs:\n",
        "            # Here in addition to the node features we pass data.pos which are needed for the\n",
        "            # InvariantMPNNLayer to function properly\n",
        "            h = h + conv(h, data.pos, data.edge_index, data.edge_attr)\n",
        "\n",
        "        h_graph = self.pool(h, data.batch)\n",
        "\n",
        "        out = self.lin_pred(h_graph)\n",
        "\n",
        "        return out.view(-1)"
      ],
      "metadata": {
        "id": "ckYP88XzC7Fi"
      },
      "execution_count": null,
      "outputs": []
    },
    {
      "cell_type": "code",
      "source": [
        "# ============ YOUR CODE HERE ==============\n",
        "# Instantiate a temporary model, layer, and dataloader for unit testing.\n",
        "# Remember that we are now unit testing the InvariantMPNNModel,\n",
        "# which is  composed of the InvariantMPNNLayer.\n",
        "#\n",
        "# inv_layer = ...\n",
        "# inv_mpnn = ...\n",
        "# ==========================================\n",
        "dataloader = DataLoader(train_dataset, batch_size=1, shuffle=True)\n",
        "\n",
        "# Rotation and translation invariance unit test for InvariantMPNN model\n",
        "print(f\"Is {type(inv_mpnn).__name__} rotation and translation invariant? --> {rot_trans_invariance_unit_test(inv_mpnn, dataloader)}!\")\n",
        "\n",
        "# Rotation and translation invariance unit test for InvariantMPNN layer\n",
        "print(f\"Is {type(inv_layer).__name__} rotation and translation invariant? --> {rot_trans_invariance_unit_test(inv_layer, dataloader)}!\")"
      ],
      "metadata": {
        "id": "I1NgKnvNPxk0"
      },
      "execution_count": null,
      "outputs": []
    },
    {
      "cell_type": "code",
      "source": [
        "# Train your InvariantMPNNModel\n",
        "seed(12345)\n",
        "model_name = type(inv_mpnn).__name__\n",
        "best_val_error, test_error, train_time, perf_per_epoch = run_experiment(\n",
        "    inv_mpnn,\n",
        "    model_name, # \"MPNN w/ Features and Coordinates (Invariant Layers)\",\n",
        "    train_loader,\n",
        "    val_loader,\n",
        "    test_loader,\n",
        "    n_epochs=100\n",
        ")\n",
        "\n",
        "RESULTS[model_name] = (best_val_error, test_error, train_time)\n",
        "df_temp = pd.DataFrame(perf_per_epoch, columns=[\"Test MAE\", \"Val MAE\", \"Epoch\", \"Model\"])\n",
        "DF_RESULTS = pd.concat([DF_RESULTS, df_temp], ignore_index=True)"
      ],
      "metadata": {
        "id": "k583F4T2QC4n"
      },
      "execution_count": null,
      "outputs": []
    },
    {
      "cell_type": "markdown",
      "source": [
        "Let's compare all three models we've trained so far!"
      ],
      "metadata": {
        "id": "yLbbN-dcTdNN"
      }
    },
    {
      "cell_type": "code",
      "source": [
        "for model_name, (val_error, test_error, train_time) in RESULTS.items():\n",
        "    print(\n",
        "        f\"\\n\\n{model_name}: Best Val MAE: {val_error:.7f}, Test MAE: {test_error:.7f},\"\n",
        "        f\" Training Time: {train_time:.2f} mins.\"\n",
        "    )\n"
      ],
      "metadata": {
        "id": "kooPqA_sTaW-"
      },
      "execution_count": null,
      "outputs": []
    },
    {
      "cell_type": "markdown",
      "source": [
        "# Message Passing with Equivariance to 3D Rotations and Translations\n",
        "\n",
        "In the previous part, we studied the concepts of **3D rotation** and **translation** invariance. Now, we will go one step further and consider a GNN for molecular property prediction that is composed of message passing layers that are **equivariant** to 3D rotations and translations.\n",
        "\n",
        "### Why Geometric Equivariance over Invariance?\n",
        "\n",
        "In order to motivate the need for geometric equivariance and symmetries, let's take a look back at the notion of permutation symmetries in GNNs for graphs, as well as translation symmetries in ConvNets for 2D images.\n",
        "\n",
        "#### Permutation Symmetry in GNNs\n",
        "\n",
        "- A GNN layer must be a permutation <ins>equivariant</ins> operation on the graph nodes, i.e. changing the node ordering of the graph results in the same permutation applied to the node outputs of the layer.\n",
        "- The overall GNN model for graph-level property prediction is still a permutation <ins>invariant</ins> function on the graph nodes, i.e. changing the node ordering does not impact the predicted graph property.\n",
        "\n",
        "**Why do we build permutation <ins>invariant</ins> GNN models composed of permutation <ins>equivariant</ins> GNN layers?**\n",
        "\n",
        "- Permutation <ins>equivariant</ins> GNN layers enable the model to better leverage the **relational structure** of the underlying nodes\n",
        "- It allows for construction of more powerful node representations by **stacking several layers** of these permutation <ins>equivariant</ins> operations.\n",
        "\n",
        "**Therefore, a 3D rotation and translation <ins>equivariant</ins> layer may enable your model to leverage geometric structure in a more principled manner, too.**\n",
        "\n",
        "#### Translation Symmetry in ConvNets for 2D Images\n",
        "\n",
        "Yet another example where <ins>invariant</ins> models are composed of <ins>equivariant</ins> layers is the ubiquitous **Convolutional Neural Network** for 2D images.\n",
        "\n",
        "<img src=\"https://drive.google.com/uc?id=1EIDxH8DrbS3fsJ7HU5sZ8LFbRJKO8SB_\" width=\"100%\">\n",
        "\n",
        "Translation <ins>invariant</ins> ConvNets are composed of translation <ins>equivariant</ins> convolution filters in order to build **heirarchical features** across multiple layers. Stacking deep ConvNets enables the features across layers to interact in a **compositional** manner and enables the overall network to learn increasingly **complex visual concepts**.\n",
        "\n"
      ],
      "metadata": {
        "id": "IuZpav9FocVq"
      }
    },
    {
      "cell_type": "markdown",
      "source": [
        "### Formalism\n",
        "\n",
        " Let's formalise the notion of equivariance to 3D rotations and translations via matrix notation.\n",
        "\n",
        "- Let $\\mathbf{H} \\in \\mathbb{R}^{n \\times d}$ be a matrix of node features for a given molecular graph, where $n$ is the number of nodes/atoms and each row $h_i$ is the $d$-dimensional feature for node $i$.\n",
        "- Let $\\mathbf{X} \\in \\mathbb{R}^{n \\times 3}$ be a matrix of node coordinates for a given molecular graph, where $n$ is the number of nodes/atoms and each row $x_i$ is the 3D coordinate for node $i$.\n",
        "- Let $\\mathbf{A} \\in \\mathbb{R}^{n \\times n}$ be the adjacency matrix where each entry denotes $a_{ij}$ the presence or absence of an edge between nodes $i$ and $j$.\n",
        "- Let $\\mathbf{F}(\\mathbf{H}, \\mathbf{X}, \\mathbf{A}): \\mathbb{R}^{n \\times d} \\times \\mathbb{R}^{n \\times 3} \\times \\mathbb{R}^{n \\times n} \\rightarrow \\mathbb{R}^{n \\times d}\\times \\mathbb{R}^{n \\times 3}$ be a **GNN <ins>layer**</ins> that takes as input the node features, node coordinates, and adjacency matrix, and returns the **updated node features** as well as **updated node coordinates**.\n",
        "- Let $f(\\mathbf{H}, \\mathbf{X}, \\mathbf{A}): \\mathbb{R}^{n \\times d} \\times \\mathbb{R}^{n \\times 3} \\times \\mathbb{R}^{n \\times n} \\rightarrow \\mathbb{R}$ be a **GNN <ins>model**</ins> that takes as input the node features, node coordinates, and adjacency matrix, and returns the **predicted graph-level property**.\n",
        "\n",
        "Our GNN <ins>model</ins> $f(\\mathbf{H}, \\mathbf{X}, \\mathbf{A})$ is composed of multiple rotation and translation equivariant GNN <ins>layers</ins> $\\mathbf{F}^{\\ell}(\\mathbf{H}^{\\ell}, \\mathbf{X}^{\\ell}, \\mathbf{A}), \\ell = 1, 2, \\dots, L$.\n",
        "\n",
        "- Let $\\mathbf{Q}$ and $\\mathbf{t}$ be a rotation matrix and a vector by which we want to translate our coordinates.\n",
        "\n",
        "(Notice the updated notation for the GNN layer $\\mathbf{F}$ and GNN model $\\mathbf{f}$ to include the matrix of node coordinates $\\mathbf{X}$ as an additional input.)\n",
        "\n",
        "### Rotation-translation equivariance\n",
        "\n",
        "The GNN <ins>layer</ins> $\\mathbf{F}$ is **rotation and translation equivariant** as follows:\n",
        "$$\n",
        "\\mathbf{F}(\\mathbf{H}, \\mathbf{Q} (\\mathbf{X} + \\mathbf{t}), \\mathbf{A}) =  \\mathbf{Q} (\\mathbf{F}(\\mathbf{H}, \\mathbf{X}, \\mathbf{A}) + \\mathbf{t}).\n",
        "$$\n",
        "\n",
        "\n",
        "### How is this different from Geometrically Invariant Message Passing?\n",
        "\n",
        "- We updates both the **node features** as well as the **node coordinates**:\n",
        "$$\n",
        "\\mathbf{H}^{\\ell+1}, \\mathbf{X}^{\\ell+1} = \\mathbf{F}^{\\ell} (\\mathbf{H}^{\\ell}, \\mathbf{X}^{\\ell}, \\mathbf{A}).\n",
        "$$\n",
        "\n",
        "- Such a formulation is highly beneficial for GNNs to learn useful node features in settings where we are modelling a **dynamical system**, e.g. the node coordinates are changing due to intermolecular forces.\n",
        "\n",
        "Note the following nuances about geometrically equivariant message passing layers $\\mathbf{F}$:\n",
        "1. The updated **node coodinates** $\\mathbf{X'}$ are **equivariant** to 3D rotations and translations of the input coordinates $\\mathbf{X}$.\n",
        "2. The updated **node features** $\\mathbf{H'}$ are still **invariant** to 3D rotations and translations of the input coordinates $\\mathbf{X}$.\n",
        "3. The overall **Equivariant MPNN model** $f$ will still be **invariant** to 3D rotations and translations because it predicts a **single scalar quantity**, which remains unchanged under any rotations and translations of the atoms' coordinates.\n",
        "\n",
        "\n",
        "<img src=\"https://drive.google.com/uc?id=1rRsjM8AdxiU-uJ7C5t1JDMkC19QKdGPg\" width=\"100%\">\n",
        "\n",
        "Let's investigate how we can improve a GNN model that is invariant to 3D rotations and translations by using message passing layers that are equivariant to these 3D symmetries.\n"
      ],
      "metadata": {
        "id": "WWpi12-7sJ_D"
      }
    },
    {
      "cell_type": "markdown",
      "source": [
        "## Exercise 4\n",
        "\n",
        "This time we will start with writing the unit test first to test our equivariant layer that we will build after the exercise.\n",
        "\n",
        "- Write a unit test for 3D rotation and translation equivariance for an equivariant MPNN layer.\n",
        " - **hint:** Check how the permutation equivariant test is written and implement this one by analogy.\n",
        " - **hint:** Remember that now we want to update **both** the node features and the node coordinates. The node coordinates must be <ins>equivariant</ins> to rotation and translation and node features must be <ins>invariant</ins> to the same transformation. That means:\n",
        "    - The output for the node features must be exactly the same regardless of whether we rotate/translate the input features or not.\n",
        "    - When we rotate and translate the node coordinates and then apply an <ins>equivariant</ins> layer, its output for the node coordinates must be the same as for the case when we apply the layer to the **original** positions first and then rotate and translate the result.\n",
        " - **hint:** Both conditions mentioned above (node feature invariance and node coordinates equivariance) must be fulfilled in the unit test, so the test returns only one boolean value, either `True` or `False`.\n",
        "\n",
        "Please, complete the code below:\n"
      ],
      "metadata": {
        "id": "48rjXyf6tv5s"
      }
    },
    {
      "cell_type": "code",
      "source": [
        "def rot_trans_equivariance_unit_test(module, dataloader):\n",
        "    \"\"\"Unit test for checking whether a module (GNN layer) is\n",
        "    rotation and translation equivariant.\n",
        "    \"\"\"\n",
        "    it = iter(dataloader)\n",
        "    data = next(it)\n",
        "    out_1, pos_1 = module(data.x, data.pos, data.edge_index, data.edge_attr)\n",
        "\n",
        "    # Create a random rotation matrix and a random translation\n",
        "    Q = random_rotation_matrix(dim=3)\n",
        "    t = torch.rand(3)\n",
        "\n",
        "    # ============ YOUR CODE HERE ==============\n",
        "    # Perform random rotation + translation on data.\n",
        "    #\n",
        "    # data.pos = ...\n",
        "    # ==========================================\n",
        "\n",
        "    # Forward pass on rotated + translated example\n",
        "    out_2, pos_2 = module(data.x, data.pos, data.edge_index, data.edge_attr)\n",
        "\n",
        "    # ============ YOUR CODE HERE ==============\n",
        "    # Check whether output varies after applying transformations.\n",
        "    # return ...\n",
        "    # =========================================="
      ],
      "metadata": {
        "id": "iy3xWUaRr36D"
      },
      "execution_count": null,
      "outputs": []
    },
    {
      "cell_type": "markdown",
      "source": [
        "### [E(n) Equivariant Graph Neural Network](https://arxiv.org/abs/2102.09844):\n",
        "\n",
        "E(n) is a group of rotations, translations and reflections in a space of dimension $N$. In our case we only check <ins>invariance</ins> and <ins>equivariance</ins> for rotations and translations of 3D coordinates, so we use SO(3) group.\n",
        "\n",
        "- It is one of the ways to implement an <ins>equivariant</ins> GNN with Cartesian coordinates.\n",
        "- The main idea that they use a so-called EGNN convolutional layer for the update of node features and positions:\n",
        "\n",
        "$$\n",
        "\\begin{align}\n",
        "m_{ij} &= \\phi_e\\left( h^l_i, h^l_j, \\|x^l_i - x^l_j\\|^2, e_{ij} \\right) \\,\\, \\text{- create edge embeddings (messages)}\\\\\n",
        "x^{l+1}_i &= x^l_i + C \\sum_{j \\neq i} \\left(x^l_i - x^l_j \\right) \\phi_x(m_{ij}) \\,\\, \\text{- update positions} \\\\\n",
        "m_i &= \\sum_{j \\neq i} m_{ij} \\,\\, \\text{- aggregate edge embeddings (messages)}\\\\\n",
        "h^{l+1}_i &= \\phi_h \\left( h^l_i, m_i \\right) \\,\\, \\text{- update node features},\n",
        "\\end{align}\n",
        "$$\n",
        "where they use the following notations:\n",
        "  - $\\phi_e$ is a neural network that creates messages for each edge, essentially computing edge embeddings.\n",
        "  - $h^l_i$ and $h^l_j$ are the node features of nodes $i$ and $j$.\n",
        "  - $e_{ij}$ is an edge feature for the edge between nodes $i$ and $j$.\n",
        "  - $x^l_i$ and $x^l_j$ are the coordinates of nodes $i$ and $j$.\n",
        "  - $C \\sum_{j \\neq i} \\left(x^l_i - x^l_j \\right) \\phi_x(m_{ij})$ is a weighted sum of the relative positions, where $C = \\frac{1}{M - 1 }$ devides the sum by the number of its elements, turning the whole term into a weighted average.\n",
        "  - $\\phi_x$ is a neural network that creates **scalar** weights to compute the weighted average term above.\n",
        "  - $m_i$ is the aggregated edge embedding.\n",
        "\n",
        "\n",
        "It turns out that the resulting node feature update is <ins>invariant</ins> ot translations and rotations and the node position update is <ins>equivariant</ins> to the same."
      ],
      "metadata": {
        "id": "I6VO1uXFvPtS"
      }
    },
    {
      "cell_type": "code",
      "source": [
        "class EquivariantMPNNLayer(MessagePassing):\n",
        "    def __init__(self, emb_dim=64, edge_dim=4, aggr='add'):\n",
        "        \"\"\"Message Passing Neural Network Layer\n",
        "\n",
        "        This layer is equivariant to 3D rotations and translations.\n",
        "\n",
        "        Args:\n",
        "            emb_dim: (int) - hidden dimension `d`\n",
        "            edge_dim: (int) - edge feature dimension `d_e`\n",
        "            aggr: (str) - aggregation function `\\oplus` (sum/mean/max)\n",
        "        \"\"\"\n",
        "        # Set the aggregation function\n",
        "        super().__init__(aggr=aggr)\n",
        "\n",
        "        self.emb_dim = emb_dim\n",
        "        self.edge_dim = edge_dim\n",
        "\n",
        "        # ============ YOUR CODE HERE ==============\n",
        "        # Define the MLPs constituting your new layer.\n",
        "        # At the least, you will need `\\psi` and `\\phi`\n",
        "        # (but their definitions may be different from what\n",
        "        # we used previously).\n",
        "        #\n",
        "        # self.mlp_msg = ...  # MLP `\\psi`\n",
        "        # self.mlp_upd = ...  # MLP `\\phi`\n",
        "        # ===========================================\n",
        "\n",
        "    def forward(self, h, pos, edge_index, edge_attr):\n",
        "        \"\"\"\n",
        "        The forward pass updates node features `h` via one round of message passing.\n",
        "\n",
        "        Args:\n",
        "            h: (n, d) - initial node features\n",
        "            pos: (n, 3) - initial node coordinates\n",
        "            edge_index: (e, 2) - pairs of edges (i, j)\n",
        "            edge_attr: (e, d_e) - edge features\n",
        "\n",
        "        Returns:\n",
        "            out: [(n, d),(n,3)] - updated node features\n",
        "        \"\"\"\n",
        "        # ============ YOUR CODE HERE ==============\n",
        "        # Notice that the `forward()` function has a new argument\n",
        "        # `pos` denoting the initial node coordinates. Your task is\n",
        "        # to update the `propagate()` function in order to pass `pos`\n",
        "        # to the `message()` function along with the other arguments.\n",
        "        #\n",
        "        # out = self.propagate(...)\n",
        "        # return out\n",
        "        # ==========================================\n",
        "\n",
        "    # ============ YOUR CODE HERE ==============\n",
        "    # Write custom `message()`, `aggregate()`, and `update()` functions\n",
        "    # which ensure that the layer is 3D rotation and translation equivariant.\n",
        "    #\n",
        "    # def message(self, ...):\n",
        "    #   ...\n",
        "    #\n",
        "    # def aggregate(self, ...):\n",
        "    #   ...\n",
        "    #\n",
        "    # def update(self, ...):\n",
        "    #   ...\n",
        "    #\n",
        "    # ==========================================\n",
        "\n",
        "    def __repr__(self) -> str:\n",
        "        return (f'{self.__class__.__name__}(emb_dim={self.emb_dim}, aggr={self.aggr})')"
      ],
      "metadata": {
        "id": "Gcoea97rCw7q"
      },
      "execution_count": null,
      "outputs": []
    },
    {
      "cell_type": "code",
      "source": [
        "class EquivariantMPNNModel(MPNNModel):\n",
        "    def __init__(self, num_layers=4, emb_dim=64, in_dim=11, edge_dim=4, out_dim=1):\n",
        "        \"\"\"Message Passing Neural Network model for graph property prediction\n",
        "\n",
        "        This model uses both node features and coordinates as inputs, and\n",
        "        is invariant to 3D rotations and translations (the constituent MPNN layers\n",
        "        are equivariant to 3D rotations and translations).\n",
        "\n",
        "        Args:\n",
        "            num_layers: (int) - number of message passing layers `L`\n",
        "            emb_dim: (int) - hidden dimension `d`\n",
        "            in_dim: (int) - initial node feature dimension `d_n`\n",
        "            edge_dim: (int) - edge feature dimension `d_e`\n",
        "            out_dim: (int) - output dimension (fixed to 1)\n",
        "        \"\"\"\n",
        "        super().__init__()\n",
        "\n",
        "        # Linear projection for initial node features\n",
        "        # dim: d_n -> d\n",
        "        self.lin_in = torch.nn.Linear(in_dim, emb_dim)\n",
        "\n",
        "        # Stack of MPNN layers\n",
        "        self.convs = torch.nn.ModuleList()\n",
        "        for layer in range(num_layers):\n",
        "            self.convs.append(EquivariantMPNNLayer(emb_dim, edge_dim, aggr='add'))\n",
        "\n",
        "        # Global pooling/readout function `R` (mean pooling)\n",
        "        # PyG handles the underlying logic via `global_mean_pool()`\n",
        "        self.pool = global_mean_pool\n",
        "\n",
        "        # Linear prediction head\n",
        "        # dim: d -> out_dim\n",
        "        self.lin_pred = torch.nn.Linear(emb_dim, out_dim)\n",
        "\n",
        "    def forward(self, data):\n",
        "        \"\"\"\n",
        "        Args:\n",
        "            data: (PyG.Data) - batch of PyG graphs\n",
        "\n",
        "        Returns:\n",
        "            out: (batch_size, out_dim) - prediction for each graph\n",
        "        \"\"\"\n",
        "        # Encode node features (n, d_n) -> (n, d)\n",
        "        h = self.lin_in(data.x)\n",
        "        pos = data.pos\n",
        "\n",
        "        for conv in self.convs:\n",
        "            # Message passing layer\n",
        "            h_update, pos_update = conv(h, pos, data.edge_index, data.edge_attr)\n",
        "\n",
        "            # Update node features\n",
        "            # (n, d) -> (n, d)\n",
        "            h = h + h_update\n",
        "\n",
        "            # Update node coordinates\n",
        "            # (n, 3) -> (n, 3)\n",
        "            pos = pos_update\n",
        "\n",
        "        h_graph = self.pool(h, data.batch)\n",
        "\n",
        "        out = self.lin_pred(h_graph)\n",
        "\n",
        "        return out.view(-1)"
      ],
      "metadata": {
        "id": "D1NaXeW0daZY"
      },
      "execution_count": null,
      "outputs": []
    },
    {
      "cell_type": "markdown",
      "source": [
        "Let's perform unit tests for your `EquivariantMPNNLayer` and `EquivariantMPNNModel`."
      ],
      "metadata": {
        "id": "-FouoAC9511S"
      }
    },
    {
      "cell_type": "code",
      "source": [
        "eqv_layer = EquivariantMPNNLayer(emb_dim=11, edge_dim=4, aggr=\"add\")\n",
        "eqv_mpnn = EquivariantMPNNModel(num_layers=4, emb_dim=64, in_dim=11, edge_dim=4, out_dim=1)\n",
        "dataloader = DataLoader(train_dataset, batch_size=1, shuffle=True)\n",
        "\n",
        "\n",
        "# Rotation and translation invariance unit test for MPNN model\n",
        "print(f\"Is {type(eqv_mpnn).__name__} rotation and translation invariant? --> {rot_trans_invariance_unit_test(eqv_mpnn, dataloader)}!\")\n",
        "\n",
        "# Rotation and translation equivariance unit test for MPNN layer\n",
        "print(f\"Is {type(eqv_layer).__name__} rotation and translation equivariant? --> {rot_trans_equivariance_unit_test(eqv_layer, dataloader)}!\")\n"
      ],
      "metadata": {
        "id": "ZtiCoC6m4e0v"
      },
      "execution_count": null,
      "outputs": []
    },
    {
      "cell_type": "markdown",
      "source": [
        "Now, let's train the model."
      ],
      "metadata": {
        "id": "A_9ybRGG3EXk"
      }
    },
    {
      "cell_type": "code",
      "source": [
        "seed(12345)\n",
        "eqv_mpnn = EquivariantMPNNModel(num_layers=4, emb_dim=64, in_dim=11, edge_dim=4, out_dim=1)\n",
        "\n",
        "model_name = type(eqv_mpnn).__name__\n",
        "best_val_error, test_error, train_time, perf_per_epoch = run_experiment(\n",
        "    eqv_mpnn,\n",
        "    model_name,\n",
        "    train_loader,\n",
        "    val_loader,\n",
        "    test_loader,\n",
        "    n_epochs=100\n",
        ")\n",
        "\n",
        "RESULTS[model_name] = (best_val_error, test_error, train_time)\n",
        "df_temp = pd.DataFrame(perf_per_epoch, columns=[\"Test MAE\", \"Val MAE\", \"Epoch\", \"Model\"])\n",
        "DF_RESULTS = pd.concat([DF_RESULTS, df_temp], ignore_index=True)"
      ],
      "metadata": {
        "id": "YjFnw1Q7Xacw"
      },
      "execution_count": null,
      "outputs": []
    },
    {
      "cell_type": "code",
      "source": [
        "for model_name, (val_error, test_error, train_time) in RESULTS.items():\n",
        "    print(\n",
        "        f\"\\n\\n{model_name}: Best Val MAE: {val_error:.7f}, Test MAE: {test_error:.7f},\"\n",
        "        f\" Training Time: {train_time:.2f} mins.\"\n",
        "    )"
      ],
      "metadata": {
        "id": "sMXbf0stXdeL"
      },
      "execution_count": null,
      "outputs": []
    },
    {
      "cell_type": "markdown",
      "source": [
        "# Extra material (self-study)\n",
        "\n",
        "\n",
        "\n"
      ],
      "metadata": {
        "id": "mcSdntMnarMl"
      }
    },
    {
      "cell_type": "markdown",
      "source": [
        "## Exercise 6\n",
        "\n",
        "- Study all the models' performance across the number of training epochs. What do you observe?\n",
        "- You can consider the number of **training epochs** as a proxy for the number of **training samples**, i.e. a model is more sample efficient if it converges to better performance within fewer epochs.\n",
        "- How do the different modelling assumptions of the standard `MPNNModel`, the `CoordMPNNModel`, the `InvariantMPNNModel`, and the `EquivariantMPNN` influence sample efficiency? Which models perform best in low-sample regimes? What happens as we increase the sample size?\n",
        "\n",
        "Use the `sns.lineplot()` function provided along with the results from `DF_RESULTS` to visualise the validation and test set MAE w.r.t. the number of training epochs in order to answer this question.\n"
      ],
      "metadata": {
        "id": "5JmT5e305oRg"
      }
    },
    {
      "cell_type": "code",
      "source": [
        "p = sns.lineplot(x=\"Epoch\", y=\"Val MAE\", hue=\"Model\", data=DF_RESULTS)\n",
        "p.set(ylim=(0, 2.5));"
      ],
      "metadata": {
        "id": "Up0aKvMAYMgz"
      },
      "execution_count": null,
      "outputs": []
    },
    {
      "cell_type": "code",
      "source": [
        "p = sns.lineplot(x=\"Epoch\", y=\"Test MAE\", hue=\"Model\", data=DF_RESULTS)\n",
        "p.set(ylim=(0, 2.5));"
      ],
      "metadata": {
        "id": "odmYcp5vYNw7"
      },
      "execution_count": null,
      "outputs": []
    },
    {
      "cell_type": "markdown",
      "source": [
        "### Dense vs. Sparse Graphs\n",
        "\n",
        "Now, let's turn our attention to the choice of the **underlying graph structure**.\n",
        "\n",
        "Today we have been using fully-connected adjacency matrices to represent molecules (i.e. all atoms in a molecule are connected to each other, except self-loops). However, the information about the molecular graph has always been available to the models through the edge attributes `data.edge_attr`:\n",
        "- When two atoms are physically connected, the edge attributes indicate the bond type (single, double, triple, or aromatic) through a one-hot vector.\n",
        "- When two atoms are **not** physically connected, all edge attributes are zero.\n",
        "\n",
        "In the following task, we will study the advantages/downsides of fully-connected adjacency matrices versus sparse adjacency matrices (where an edge between two atoms is present only when there exists a physical connection between them)."
      ],
      "metadata": {
        "id": "mz8UgYHs6HSC"
      }
    },
    {
      "cell_type": "code",
      "source": [
        "# Load QM9 dataset with sparse graphs (by removing the full graphs transform)\n",
        "path = \"./qm9_sparse\"\n",
        "download_data(*file_id_name, destination_dir=path)\n",
        "sparse_dataset = QM9FixDownload(path, transform=SetTarget())\n",
        "\n",
        "# Normalize targets per data sample to mean = 0 and std = 1.\n",
        "mean = sparse_dataset.data.y.mean(dim=0, keepdim=True)\n",
        "std = sparse_dataset.data.y.std(dim=0, keepdim=True)\n",
        "sparse_dataset.data.y = (sparse_dataset.data.y - mean) / std\n",
        "mean, std = mean[:, target].item(), std[:, target].item()\n",
        "\n",
        "# Split datasets (3K subset)\n",
        "train_dataset_sparse = sparse_dataset[:1000]\n",
        "val_dataset_sparse = sparse_dataset[1000:2000]\n",
        "test_dataset_sparse = sparse_dataset[2000:3000]\n",
        "print(f\"Created sparse dataset splits with {len(train_dataset_sparse)} training, {len(val_dataset_sparse)} validation, {len(test_dataset_sparse)} test samples.\")\n",
        "\n",
        "# Create dataloaders with batch size = 32\n",
        "train_loader_sparse = DataLoader(train_dataset_sparse, batch_size=32, shuffle=True)\n",
        "test_loader_sparse = DataLoader(test_dataset_sparse, batch_size=32, shuffle=False)\n",
        "val_loader_sparse = DataLoader(val_dataset_sparse, batch_size=32, shuffle=False)"
      ],
      "metadata": {
        "colab": {
          "base_uri": "https://localhost:8080/"
        },
        "id": "8BA0ubMb54Hb",
        "outputId": "6a604f15-3c5d-425e-c687-0935bd2ac1f5"
      },
      "execution_count": null,
      "outputs": [
        {
          "output_type": "stream",
          "name": "stdout",
          "text": [
            "Created sparse dataset splits with 100 training, 100 validation, 100 test samples.\n"
          ]
        },
        {
          "output_type": "stream",
          "name": "stderr",
          "text": [
            "/usr/local/lib/python3.10/dist-packages/torch_geometric/data/in_memory_dataset.py:300: UserWarning: It is not recommended to directly access the internal storage format `data` of an 'InMemoryDataset'. If you are absolutely certain what you are doing, access the internal storage via `InMemoryDataset._data` instead to suppress this warning. Alternatively, you can access stacked individual attributes of every graph via `dataset.{attr_name}`.\n",
            "  warnings.warn(msg)\n"
          ]
        }
      ]
    },
    {
      "cell_type": "markdown",
      "source": [
        "Let's now check that the sparse dataset is actually more sparse than the fully-connected dataset that we have been using throughout the practical:"
      ],
      "metadata": {
        "id": "cFqgDaNlBjUz"
      }
    },
    {
      "cell_type": "code",
      "source": [
        "val_batch_sparse = next(iter(val_loader_sparse))\n",
        "val_batch_dense = next(iter(val_loader))\n",
        "\n",
        "# These two batches should correspond to the same molecules. Let's add a sanity check\n",
        "assert torch.allclose(val_batch_sparse.y, val_batch_dense.y, atol=1e-4)\n",
        "\n",
        "print(\n",
        "    f\"Number of edges in sparse batch {val_batch_sparse.edge_index.shape[-1]}. \\n\"\n",
        "    f\"Number of edges in dense batch {val_batch_dense.edge_index.shape[-1]}\"\n",
        ")"
      ],
      "metadata": {
        "id": "z68yBTPkYiBE"
      },
      "execution_count": null,
      "outputs": []
    },
    {
      "cell_type": "markdown",
      "source": [
        "Let's now compare the models under the two scenarios:"
      ],
      "metadata": {
        "id": "Dg7y-57BCnLe"
      }
    },
    {
      "cell_type": "code",
      "source": [
        "sparse_results = {}\n",
        "dense_results = RESULTS"
      ],
      "metadata": {
        "id": "dZdzLKZPCJWS"
      },
      "execution_count": null,
      "outputs": []
    },
    {
      "cell_type": "code",
      "source": [
        "seed(12345)\n",
        "model_kwargs = {\"num_layers\": 4, \"emb_dim\": 64, \"in_dim\": 11, \"edge_dim\": 4, \"out_dim\": 1}\n",
        "\n",
        "models = [\n",
        "    MPNNModel(**model_kwargs),\n",
        "    CoordMPNNModel(**model_kwargs),\n",
        "    InvariantMPNNModel(**model_kwargs),\n",
        "    EquivariantMPNNModel(**model_kwargs)\n",
        "]\n",
        "\n",
        "for model in models:\n",
        "  model_name = type(model).__name__\n",
        "\n",
        "  if model_name not in sparse_results:\n",
        "    sparse_results[model_name] = run_experiment(\n",
        "        model,\n",
        "        model_name,\n",
        "        train_loader_sparse,\n",
        "        val_loader_sparse,\n",
        "        test_loader_sparse,\n",
        "        n_epochs=100\n",
        "    )\n",
        "\n",
        "  if model_name not in dense_results:\n",
        "    dense_results[model_name] = run_experiment(\n",
        "        model,\n",
        "        model_name,\n",
        "        train_loader,\n",
        "        val_loader,\n",
        "        test_loader,\n",
        "        n_epochs=100\n",
        "    )"
      ],
      "metadata": {
        "id": "qYAjvFgGYjzl"
      },
      "execution_count": null,
      "outputs": []
    },
    {
      "cell_type": "code",
      "source": [
        "df_sparse = pd.DataFrame.from_dict(sparse_results, orient='index', columns=['Best val MAE', 'Test MAE', 'Train time', 'Train History'])\n",
        "df_dense = pd.DataFrame.from_dict(dense_results, orient='index', columns=['Best val MAE', 'Test MAE', 'Train time'])\n",
        "df_sparse['type'] = 'sparse'\n",
        "df_dense['type'] = 'dense'\n",
        "df = pd.concat([df_sparse, df_dense])\n",
        "\n",
        "sns.set_theme(rc={'figure.figsize':(10, 6)})\n",
        "sns.barplot(x=df.index, y=\"Test MAE\", hue=\"type\", data=df)"
      ],
      "metadata": {
        "id": "ZHrgB4b2YlQb"
      },
      "execution_count": null,
      "outputs": []
    },
    {
      "cell_type": "markdown",
      "source": [
        "The performance difference between E(3) equivariant message passing neural networks and standard MPNNs when using fully connected versus sparsely connected graphs can be understood by examining the nature of these models and the role of graph connectivity in molecular representation learning.\n",
        "\n",
        "### Fully Connected Graphs\n",
        "\n",
        "1. **Information Flow**: In fully connected graphs, every node (atom) can directly communicate with every other node in the molecule. This allows the network to capture long-range dependencies and interactions between distant atoms more effectively.\n",
        "2. **Global Context**: Fully connected graphs provide a global context for each atom, enhancing the model's ability to learn complex, non-local interactions which are crucial for many molecular properties.\n",
        "\n",
        "### Sparse Graphs\n",
        "\n",
        "1. **Limited Information Flow**: In sparse graphs, each node typically only communicates with its immediate neighbours, which limits the model's ability to capture long-range dependencies and interactions. The model has to rely on multiple message-passing steps to aggregate information from distant nodes, which can be problematic in case of bottlenecks.\n",
        "2. **Local Context**: Sparse graphs primarily provide local context, which might be sufficient for some properties but not for others that depend on global molecular structure and long-range interactions."
      ],
      "metadata": {
        "id": "MmbCeyY2jPcg"
      }
    }
  ]
}